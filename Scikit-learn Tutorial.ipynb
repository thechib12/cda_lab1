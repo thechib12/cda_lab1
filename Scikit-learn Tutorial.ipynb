{
 "cells": [
  {
   "cell_type": "markdown",
   "metadata": {},
   "source": [
    "# Scikit-learn tutorial\n",
    "\n",
    "### Objectives\n",
    "After this notebook you should be able to...\n",
    "+ Be familiar with the vocabulary used in scikit-learn's documentation\n",
    "+ Go from pandas to numpy to scikit-learn\n",
    "+ Know the 'gotchas' before using scikit-learn\n",
    "+ Build a simple and stupid baseline model\n",
    "+ Know how to import machine learning models and helper functions\n",
    "+ Be aware of the most common models and functions from the API\n",
    "+ Instantiate an estimator\n",
    "+ Know that all estimators have a **`fit`** method\n",
    "+ Use estimator methods to predict and score your model\n",
    "+ Automate cross validation with **`cross_val_score`**\n",
    "* Manually tune the hyper-parameters and a **`GridSearchCV`**\n",
    "* Use the pandas function **`get_dummies`** to binarize categorical features\n",
    "\n",
    "### Resources\n",
    "+ [Official scikit-learn documentation](http://scikit-learn.org/stable/index.html)\n",
    "+ [Official scikit-learn tutorial](http://scikit-learn.org/stable/tutorial/index.html)\n",
    "+ [Huge tutorial from one of the core contributors Andreas Mueller](https://github.com/amueller/scipy-2016-sklearn)\n",
    "+ [Podcast with Andreas Mueller](https://softwareengineeringdaily.com/2016/09/27/scikit-learn-with-andreas-mueller/) - simple and for beginners\n",
    "\n",
    "### Introduction\n",
    "This notebook covers the basics of the excellent and popular Python machine learning library **scikit-learn**. It is pronounced sy-kit-learn. Think of a science kit for learning. The primary purpose of scikit-learn is to make machine learning easy to run. It only takes a few lines of code to train a model and predict with it. The interface to working with scikit-learn is simple and standardized for all models. Let's first take a look at some of the vocabulary.\n",
    "\n",
    "### Vocabularly\n",
    "* **samples** - Number of observations in the dataset. Also known as rows, **`n`**\n",
    "* **features** - All the variables in the dataset. Also known as columns, predictors, **`X`**\n",
    "* **estimator** - Word used for each machine learning model. An estimator is any object that learns from data; it may be a classification, regression or clustering algorithm or a transformer that extracts/filters useful features from raw data. \n",
    "* **supervised learning** - Data comes with additional attributes that we want to predict\n",
    "* **classification** - Samples belong to two or more classes and we want to learn from already labeled data how to predict the class of unlabeled data.\n",
    "* **regression** - The desired output consists of one or more continuous variables\n",
    "* **labels** - In supervised classification, the result or **target** variable for each row. The variable we are trying to predict, **`y`**\n",
    "* **unsupervised learning** - The training data consists of a set of input vectors x without any corresponding target values. The goal in such problems may be to discover groups of similar examples within the data, where it is called clustering, or to determine the distribution of data within the input space, known as density estimation. \n",
    "* **estimator parameters** - All estimators are instantiated from their estimator classes with a set of parameters. These parameters uniquely tune your model. For example, in a random forest you can set the number of decision trees, tree depth and several others.\n",
    "* **fitting the data** - All estimators have a **fit** method that train the model.\n",
    "* **predicting** - Many estimators have a **predict** method that will return a predicted value for each sample.\n",
    "* **transform** - Some estimators have a **transform** method that will transform your data into. For example, when doing principle component analysis, there is no prediction only transformation of your data from one feature space to another.\n",
    "\n",
    "### Scikit-learn dependencies\n",
    "Since many of you will be coming from a background using pandas to do your data analysis you might be surprised to find that scikit-learn is not dependent at all on pandas. You must have the numpy and scipy libraries installed.\n",
    "\n",
    "### Pandas vs Scikit-learn\n",
    "pandas and scikit-learn are two related but different libraries. pandas is likely where the vast majority of your workflow will reside when you are performing a data analysis. Once you have thoroughly explored and investigated your data and have prepared it for machine learning you then turn to scikit-learn to train and test your models.\n",
    "\n",
    "### Scope of Scikit-learn\n",
    "Scikit-learn does not contain all the machine learning algorithms in the world, not even close. It contains the most popular and powerful methods that you will find in introductory machine learning texts. In addition to the common machine learning models, it provides lots of other tools for preprocessing data, transforming text data, model validation and scoring, tuning parameters and more.\n",
    "\n",
    "### What other Python machine learning libraries are used?\n",
    "Scikit-learn covers the vast majority of use cases. Here are some areas where other libraries work better\n",
    "\n",
    "+ **deep learning** - [keras](https://keras.io/), [tensorflow](https://www.tensorflow.org/) and [theano](http://deeplearning.net/software/theano/)\n",
    "+ **big data** - Spark with [pyspark](https://spark.apache.org/docs/0.9.0/python-programming-guide.html)\n",
    "+ **regresion output** - scikit-learn does not produce regression output containing t-statistics, p-values, etc... You will need to uses [statsmodels](http://www.statsmodels.org/stable/index.html)\n",
    "+ **association rules** - [orange3](https://orange3-associate.readthedocs.io)\n",
    "+ **recommender systems** - build your own.\n",
    "+ **natural language processing** - [NLTK](http://www.nltk.org/), [gensim](https://radimrehurek.com/gensim/)\n",
    "\n",
    "There are also lots of [other scikits](http://scikits.appspot.com/scikits) out there for different scientific computing. \n",
    "\n",
    "### NumPy arrays\n",
    "Scikit-learn uses numpy's n-dimensional array (ndarray) to pass data around and occasionally scipy's sparse matrices. It is possible to pass in pandas DataFrames and Series to scikit-learn methods. But, scikit-learn will immediately turn them into ndarrays. I always convert my data into a numpy array before I use any scikit-learn functionality.\n",
    "\n",
    "### No Missing Values\n",
    "Scikit-learn does not handle missing values natively. You will need to remove all missing values from your dataset before using it.\n",
    "\n",
    "### Scikit-learn package\n",
    "The scikit-learn package is built of many sub-packages that each cover a different part of machine learning. You will almost always interact with scikit-learn by importing a specific class or function in the following manner.\n",
    "\n",
    "> `from sklearn.sub_package import SomeEstimator`\n",
    "\n",
    "Or like this:\n",
    "\n",
    "> `from sklearn.sub_package import some_function`\n",
    "\n",
    "It's a good idea to [look through the API right now](http://scikit-learn.org/stable/modules/classes.html) to see all the available functionality scikit-learn has to offer.\n",
    "\n",
    "### Best of API\n",
    "\n",
    "There are lots of sub-packages and a tremendous amount of classes and functions available for you to import into your project. The below classes and functions are, from my experience, the most commonly used ones. Make sure to explore the API in-depth to become aware of all things you can do.\n",
    "\n",
    "#### Datasets\n",
    "Scikit-learn has many datasets that come packaged with it for quick exploration. \n",
    "+ **`sklearn.datasets`** - `load_digits, load_boston, load_iris`\n",
    "\n",
    "#### Dummy Estimators\n",
    "Use this as the default model for starting out.\n",
    "+ **`sklearn.dummy`** - `DummyClassifier, DummyRegressor`\n",
    "\n",
    "#### Preprocessing\n",
    "These use the **`transform`** or **`fit_transform`** methods\n",
    "+ **`sklearn.preprocessing`** - `StandardScaler, PolynomialFeatures`\n",
    "\n",
    "#### Neighbors\n",
    "+ **`sklearn.neighbors`** - `KNeighborsClassifier, KNeighborsRegressor`\n",
    "\n",
    "#### Discriminant analysis\n",
    "+ **`sklearn.discriminant_analysis`** - `LinearDiscriminantAnalysis, QuadraticDiscriminantAnalysis`\n",
    "\n",
    "#### NaiveBayes\n",
    "+ **`sklearn.naive_bayes`** - `MultinomialNB`\n",
    "\n",
    "#### Linear Models\n",
    "+ **`sklearn.linear_model`** - `LinearRegression, LogisticRegression, Lasso, Ridge, ElasticNet`\n",
    "\n",
    "#### Decision Trees\n",
    "+ **`sklearn.tree`** - `DecisionTreeClassifier, DecisionTreeRegressor`\n",
    "\n",
    "#### Support vector machines\n",
    "+ **`sklearn.svm`** - `SVR, SVC`\n",
    "\n",
    "#### Neural Networks\n",
    "+ **`sklearn.neural_network`** - `MLPClassifier, MLPRegressor`\n",
    "\n",
    "#### Ensemble\n",
    "Mainly tree-based ensembling.\n",
    "+ **`sklearn.ensemble`** - `RandomForestClassifier, RandomForestRegressor, GradientBoostingClassifier, GradientBoostingRegressor`\n",
    "\n",
    "#### Unsupervised Learning\n",
    "+ **`sklearn.cluster`** - `KMeans`\n",
    "\n",
    "#### Matrix decomposition\n",
    "These use the **`transform`** or **`fit_transform`** methods.\n",
    "+ **`sklearn.decomposition`** - `PCA, NMF, LatentDirichletAllocation`\n",
    "\n",
    "#### Text Extraction\n",
    "These use the **`transform`** or **`fit_transform`** methods.\n",
    "+ **`feature_extraction.text`** - `CountVectorizer, TfidfVectorizer`\n",
    "\n",
    "#### Model Selection\n",
    "+ **`sklearn.model_selection`** - `KFOLD, test_train_spit, cross_val_score`\n",
    "\n",
    "#### Metrics\n",
    "+ **`sklearn.metrics`** - `f1_score, roc_auc_score, roc_curve`\n",
    "\n",
    "#### Pipeline\n",
    "+ **`sklearn.pipeline`** - `Pipeline`\n",
    "\n",
    "### Regressor vs Classifier\n",
    "Notice that most of the supervised machine learning methods have one class each for regression and classification.\n",
    "\n",
    "### Sklearn gotchas\n",
    "+ By convention put your input array into a variable named **`X`** and target array into variable **`y`**.\n",
    "+ Convert both input and output to numpy arrays before using scikit-learn\n",
    "+ Your input array must be two-dimensional, even if there is only one predictor variable\n",
    "+ Although, you can have multiple labels for your **`y`** for each observation, this is very rare. When you have a single label for each observation, convert your **`y`** into a one dimensional numpy array.\n",
    "+ **`X`** and **`y`** must not contain any missing values\n",
    "+ **`X`** must be all numeric.\n",
    "+ **`y`** can be an array of strings or numbers\n",
    "\n",
    "### Typical workflow from pandas to prediction\n",
    "Here is an outline of a very basic workflow for going from initial data pull to machine learning\n",
    "> `read data in pandas dataframe` \n",
    "> `lots of pandas manipulations`  \n",
    "> `Do lots of EDA`  \n",
    "\n",
    "> `Still in pandas, prepare for machine learning`  \n",
    "> `Remove missing values`  \n",
    "> `Binarize columns with string values with pd.get_dummies`  \n",
    "\n",
    "> `move to sklearn by converting pandas objects to numpy arrays X and y`  \n",
    "> `Scale continuous features`  \n",
    "> `Other transformation to either features or target variables - take log, etc...`  \n",
    "\n",
    "> `Split data - kfold, or validation set`  \n",
    "> `Import estimator from sklearn`  \n",
    "> `Instantiate estimator`  \n",
    "> `Use fit method`  \n",
    "> `Use predict or score method to validate model`  \n",
    "\n",
    "# Scikit-learn on the Titanic dataset\n",
    "We will begin with the classic titanic dataset. We will try to predict the survival of each person. We will build a very simple model first and then add more features and use more complex models.\n",
    "\n",
    "\n",
    "\n",
    "- issuercountrycode: country where the card was issued\n",
    "- txvariantcode: the card type that was used (subbrand of visa or master card)\n",
    "- bin: card issuer identifier\n",
    "- amount/currencycode: transaction amount in minor units (so 100 EUR = 100 euro cent)\n",
    "- shoppercountrycode: IP address country\n",
    "- shopperinteraction: Ecommerce if it was an online transaction, ContAuth if it was a (monthly) subscription\n",
    "- simple_journal: Payment status. Authorised = “transaction approved and no fraud reported”, Refused = “transaction was declined, can be fraud, but can also be insufficient funds, etc”, Chargeback = “transaction was approved, but turned out to be fraud”\n",
    "- bookingdate: only relevant for Chargebacks. Time stamp when the chargeback was reported. During simulation you may only use this knowledge after this date. So for example if on an email address a transaction ended in a chargeback, you can only block that email address after the booking date of the chargeback.\n",
    "- cardverificationresponsesupplied: did the shopper provide his 3 digit CVC/CVV2 code?\n",
    "- cvcresponsecode: Validation result of the CVC/CVV2 code: 0 = Unknown, 1=Match, 2=No Match, 3-6=Not checked\n",
    "- creationdate: Date of transaction\n",
    "- accountcode: merchant’s webshop\n",
    "- mail_id: Email address\n",
    "- ip_id: Ip address\n",
    "- card_id: Card number"
   ]
  },
  {
   "cell_type": "code",
   "execution_count": 48,
   "metadata": {},
   "outputs": [],
   "source": [
    "%matplotlib inline\n",
    "import numpy as np\n",
    "import pandas as pd\n",
    "import random\n",
    "import seaborn as sns\n",
    "from sklearn.ensemble import RandomForestClassifier\n",
    "from sklearn.model_selection import train_test_split\n",
    "from sklearn.metrics import recall_score\n",
    "from sklearn import preprocessing\n",
    "from sklearn.metrics import confusion_matrix\n",
    "\n",
    "\n",
    "# from imblearn.over_sampling import SMOTE\n",
    "sns.set()\n"
   ]
  },
  {
   "cell_type": "code",
   "execution_count": 11,
   "metadata": {},
   "outputs": [
    {
     "name": "stdout",
     "output_type": "stream",
     "text": [
      "Index(['txid', 'bookingdate', 'issuercountrycode', 'txvariantcode', 'bin',\n",
      "       'amount', 'currencycode', 'shoppercountrycode', 'shopperinteraction',\n",
      "       'simple_journal', 'cardverificationcodesupplied', 'cvcresponsecode',\n",
      "       'creationdate', 'accountcode', 'mail_id', 'ip_id', 'card_id'],\n",
      "      dtype='object')\n"
     ]
    },
    {
     "data": {
      "text/html": [
       "<div>\n",
       "<style>\n",
       "    .dataframe thead tr:only-child th {\n",
       "        text-align: right;\n",
       "    }\n",
       "\n",
       "    .dataframe thead th {\n",
       "        text-align: left;\n",
       "    }\n",
       "\n",
       "    .dataframe tbody tr th {\n",
       "        vertical-align: top;\n",
       "    }\n",
       "</style>\n",
       "<table border=\"1\" class=\"dataframe\">\n",
       "  <thead>\n",
       "    <tr style=\"text-align: right;\">\n",
       "      <th></th>\n",
       "      <th>txid</th>\n",
       "      <th>bookingdate</th>\n",
       "      <th>issuercountrycode</th>\n",
       "      <th>txvariantcode</th>\n",
       "      <th>bin</th>\n",
       "      <th>amount</th>\n",
       "      <th>currencycode</th>\n",
       "      <th>shoppercountrycode</th>\n",
       "      <th>shopperinteraction</th>\n",
       "      <th>simple_journal</th>\n",
       "      <th>cardverificationcodesupplied</th>\n",
       "      <th>cvcresponsecode</th>\n",
       "      <th>creationdate</th>\n",
       "      <th>accountcode</th>\n",
       "      <th>mail_id</th>\n",
       "      <th>ip_id</th>\n",
       "      <th>card_id</th>\n",
       "    </tr>\n",
       "  </thead>\n",
       "  <tbody>\n",
       "    <tr>\n",
       "      <th>0</th>\n",
       "      <td>1</td>\n",
       "      <td>2015-11-09</td>\n",
       "      <td>MX</td>\n",
       "      <td>mccredit</td>\n",
       "      <td>530056.0</td>\n",
       "      <td>64800.0</td>\n",
       "      <td>MXN</td>\n",
       "      <td>MX</td>\n",
       "      <td>Ecommerce</td>\n",
       "      <td>Chargeback</td>\n",
       "      <td>True</td>\n",
       "      <td>0</td>\n",
       "      <td>2015-07-01 23:03:11</td>\n",
       "      <td>MexicoAccount</td>\n",
       "      <td>email68370</td>\n",
       "      <td>ip111778</td>\n",
       "      <td>card184798</td>\n",
       "    </tr>\n",
       "    <tr>\n",
       "      <th>1</th>\n",
       "      <td>2</td>\n",
       "      <td>2015-11-09</td>\n",
       "      <td>MX</td>\n",
       "      <td>mccredit</td>\n",
       "      <td>547046.0</td>\n",
       "      <td>44900.0</td>\n",
       "      <td>MXN</td>\n",
       "      <td>MX</td>\n",
       "      <td>Ecommerce</td>\n",
       "      <td>Chargeback</td>\n",
       "      <td>True</td>\n",
       "      <td>0</td>\n",
       "      <td>2015-07-02 04:50:55</td>\n",
       "      <td>MexicoAccount</td>\n",
       "      <td>email101299</td>\n",
       "      <td>ip78749</td>\n",
       "      <td>card151595</td>\n",
       "    </tr>\n",
       "    <tr>\n",
       "      <th>2</th>\n",
       "      <td>3</td>\n",
       "      <td>2015-11-23</td>\n",
       "      <td>MX</td>\n",
       "      <td>mccredit</td>\n",
       "      <td>528843.0</td>\n",
       "      <td>149900.0</td>\n",
       "      <td>MXN</td>\n",
       "      <td>MX</td>\n",
       "      <td>Ecommerce</td>\n",
       "      <td>Chargeback</td>\n",
       "      <td>True</td>\n",
       "      <td>0</td>\n",
       "      <td>2015-07-02 14:30:28</td>\n",
       "      <td>MexicoAccount</td>\n",
       "      <td>email278604</td>\n",
       "      <td>ip70594</td>\n",
       "      <td>card242142</td>\n",
       "    </tr>\n",
       "    <tr>\n",
       "      <th>3</th>\n",
       "      <td>4</td>\n",
       "      <td>2015-11-23</td>\n",
       "      <td>MX</td>\n",
       "      <td>mccredit</td>\n",
       "      <td>547146.0</td>\n",
       "      <td>109900.0</td>\n",
       "      <td>MXN</td>\n",
       "      <td>MX</td>\n",
       "      <td>Ecommerce</td>\n",
       "      <td>Chargeback</td>\n",
       "      <td>True</td>\n",
       "      <td>0</td>\n",
       "      <td>2015-07-03 07:53:37</td>\n",
       "      <td>MexicoAccount</td>\n",
       "      <td>email47409</td>\n",
       "      <td>ip113648</td>\n",
       "      <td>card181744</td>\n",
       "    </tr>\n",
       "    <tr>\n",
       "      <th>4</th>\n",
       "      <td>5</td>\n",
       "      <td>2015-11-09</td>\n",
       "      <td>MX</td>\n",
       "      <td>visaclassic</td>\n",
       "      <td>477291.0</td>\n",
       "      <td>89900.0</td>\n",
       "      <td>MXN</td>\n",
       "      <td>MX</td>\n",
       "      <td>Ecommerce</td>\n",
       "      <td>Chargeback</td>\n",
       "      <td>True</td>\n",
       "      <td>0</td>\n",
       "      <td>2015-07-08 18:35:35</td>\n",
       "      <td>MexicoAccount</td>\n",
       "      <td>email205501</td>\n",
       "      <td>ip83553</td>\n",
       "      <td>card97271</td>\n",
       "    </tr>\n",
       "  </tbody>\n",
       "</table>\n",
       "</div>"
      ],
      "text/plain": [
       "   txid bookingdate issuercountrycode txvariantcode       bin    amount  \\\n",
       "0     1  2015-11-09                MX      mccredit  530056.0   64800.0   \n",
       "1     2  2015-11-09                MX      mccredit  547046.0   44900.0   \n",
       "2     3  2015-11-23                MX      mccredit  528843.0  149900.0   \n",
       "3     4  2015-11-23                MX      mccredit  547146.0  109900.0   \n",
       "4     5  2015-11-09                MX   visaclassic  477291.0   89900.0   \n",
       "\n",
       "  currencycode shoppercountrycode shopperinteraction simple_journal  \\\n",
       "0          MXN                 MX          Ecommerce     Chargeback   \n",
       "1          MXN                 MX          Ecommerce     Chargeback   \n",
       "2          MXN                 MX          Ecommerce     Chargeback   \n",
       "3          MXN                 MX          Ecommerce     Chargeback   \n",
       "4          MXN                 MX          Ecommerce     Chargeback   \n",
       "\n",
       "  cardverificationcodesupplied  cvcresponsecode         creationdate  \\\n",
       "0                         True                0  2015-07-01 23:03:11   \n",
       "1                         True                0  2015-07-02 04:50:55   \n",
       "2                         True                0  2015-07-02 14:30:28   \n",
       "3                         True                0  2015-07-03 07:53:37   \n",
       "4                         True                0  2015-07-08 18:35:35   \n",
       "\n",
       "     accountcode      mail_id     ip_id     card_id  \n",
       "0  MexicoAccount   email68370  ip111778  card184798  \n",
       "1  MexicoAccount  email101299   ip78749  card151595  \n",
       "2  MexicoAccount  email278604   ip70594  card242142  \n",
       "3  MexicoAccount   email47409  ip113648  card181744  \n",
       "4  MexicoAccount  email205501   ip83553   card97271  "
      ]
     },
     "execution_count": 11,
     "metadata": {},
     "output_type": "execute_result"
    }
   ],
   "source": [
    "# data inladen hier\n",
    "\n",
    "# parse time with seconds to general date\n",
    "dateparse = lambda x: pd.datetime.strptime(x, '%Y-%m-%d %H:%M:%S')\n",
    "data = pd.read_csv('data.csv', parse_dates=['bookingdate'], date_parser=dateparse)\n",
    "data['bookingdate'] = data['bookingdate'].dt.date\n",
    "# print(data.head())\n",
    "data.drop(['bookingdate'], axis=1);\n",
    "# remove refused entries\n",
    "data = data[data.simple_journal != 'Refused']\n",
    "\n",
    "# distinguish datasets\n",
    "data_benign = data[data.simple_journal == 'Settled']\n",
    "data_fraud  = data[data.simple_journal == 'Chargeback']\n",
    "\n",
    "print(data.columns)\n",
    "data.head()\n",
    "\n",
    "# sns.boxplot(x=\"simple_journal\", y=\"amount\", data=data)\n",
    "\n",
    "# generates heatmap for issuer and shopper code\n",
    "\n",
    "\n",
    "# data_fraud.head(100)"
   ]
  },
  {
   "cell_type": "code",
   "execution_count": 226,
   "metadata": {},
   "outputs": [
    {
     "data": {
      "image/png": "[encoded data removed]",
      "text/plain": [
       "<matplotlib.figure.Figure at 0x29d1f06ef98>"
      ]
     },
     "metadata": {},
     "output_type": "display_data"
    }
   ],
   "source": [
    "# Beetje data exploration hier\n",
    "def generate_country_count(data):\n",
    "    data_fraud = data[['issuercountrycode', 'shoppercountrycode']]\n",
    "    data_grouped = data_fraud.groupby(['issuercountrycode', 'shoppercountrycode']).size().reset_index(name=\"count\")\n",
    "    pivot = data_grouped.pivot('issuercountrycode','shoppercountrycode').fillna(0)\n",
    "    sns.heatmap(pivot, cmap=\"YlGnBu\")\n",
    "\n",
    "def generate_against_amount(data, col1, col2):\n",
    "    data_fraud = data[[col1, col2, 'amount']]\n",
    "    data_grouped = data_fraud.groupby([col1, col2])['amount'].agg('sum').reset_index(name='amount')\n",
    "    pivot = data_grouped.pivot(index=col1, columns=col2, values='amount').fillna(0)\n",
    "    sns.heatmap(pivot, cmap=\"YlGnBu\")\n",
    "\n",
    "# generate column against mean of amount\n",
    "def generate_bar_mean(data, col):\n",
    "    data_mean = data[[col, 'amount']].groupby([col])['amount'].agg('mean').reset_index(name='mean_amount')\n",
    "    return data_mean\n",
    "\n",
    "['txid', 'bookingdate', 'issuercountrycode', 'txvariantcode', 'bin',\n",
    "       'amount', 'currencycode', 'shoppercountrycode', 'shopperinteraction',\n",
    "       'simple_journal', 'cardverificationcodesupplied', 'cvcresponsecode',\n",
    "       'creationdate', 'accountcode', 'mail_id', 'ip_id', 'card_id'] \n",
    "x= 'accountcode'\n",
    "data_mean_fraud = generate_bar_mean(data_fraud, x)\n",
    "data_mean_benign = generate_bar_mean(data_benign, x)\n",
    "data_mean_fraud['type'] = 'fraud'\n",
    "data_mean_benign['type']= 'benign'\n",
    "# countries = data_mean_fraud[x].unique()\n",
    "# data_mean_benign = data_mean_benign[data_mean_benign[x].isin(countries)]\n",
    "data_mean = pd.concat([data_mean_benign, data_mean_fraud])\n",
    "# data_mean.sort_values('shoppercountrycode')\n",
    "\n",
    "\n",
    "plot = sns.barplot(x=x, y=\"mean_amount\", hue=\"type\", data=data_mean)\n",
    "\n",
    "figure = plot.get_figure()    \n",
    "figure.savefig('barchart_'+x+'.png', dpi=800)\n",
    "# generate_against_amount(data_fraud, 'ip_id', 'card_id')\n",
    "\n",
    "# generate_against_amount(data_benign, 'shoppercountrycode', 'cvcresponsecode')\n",
    "\n",
    "# generate_country_count(data_benign)\n",
    "\n",
    "# bin/cvcresponsecode \n",
    "\n",
    "# data_fraud.ip_id.value_counts()\n",
    "\n",
    "\n"
   ]
  },
  {
   "cell_type": "code",
   "execution_count": 49,
   "metadata": {},
   "outputs": [
    {
     "data": {
      "text/html": [
       "<div>\n",
       "<style>\n",
       "    .dataframe thead tr:only-child th {\n",
       "        text-align: right;\n",
       "    }\n",
       "\n",
       "    .dataframe thead th {\n",
       "        text-align: left;\n",
       "    }\n",
       "\n",
       "    .dataframe tbody tr th {\n",
       "        vertical-align: top;\n",
       "    }\n",
       "</style>\n",
       "<table border=\"1\" class=\"dataframe\">\n",
       "  <thead>\n",
       "    <tr style=\"text-align: right;\">\n",
       "      <th>Predicted</th>\n",
       "      <th>Chargeback</th>\n",
       "      <th>Settled</th>\n",
       "      <th>All</th>\n",
       "    </tr>\n",
       "    <tr>\n",
       "      <th>True</th>\n",
       "      <th></th>\n",
       "      <th></th>\n",
       "      <th></th>\n",
       "    </tr>\n",
       "  </thead>\n",
       "  <tbody>\n",
       "    <tr>\n",
       "      <th>Chargeback</th>\n",
       "      <td>1</td>\n",
       "      <td>20</td>\n",
       "      <td>21</td>\n",
       "    </tr>\n",
       "    <tr>\n",
       "      <th>Settled</th>\n",
       "      <td>27</td>\n",
       "      <td>23656</td>\n",
       "      <td>23683</td>\n",
       "    </tr>\n",
       "    <tr>\n",
       "      <th>All</th>\n",
       "      <td>28</td>\n",
       "      <td>23676</td>\n",
       "      <td>23704</td>\n",
       "    </tr>\n",
       "  </tbody>\n",
       "</table>\n",
       "</div>"
      ],
      "text/plain": [
       "Predicted   Chargeback  Settled    All\n",
       "True                                  \n",
       "Chargeback           1       20     21\n",
       "Settled             27    23656  23683\n",
       "All                 28    23676  23704"
      ]
     },
     "execution_count": 49,
     "metadata": {},
     "output_type": "execute_result"
    }
   ],
   "source": [
    "data = data[['issuercountrycode', 'txvariantcode',\n",
    "       'amount', 'currencycode', 'shoppercountrycode', 'shopperinteraction',\n",
    "       'simple_journal', 'cardverificationcodesupplied', 'cvcresponsecode',\n",
    "        'accountcode']]\n",
    "categorical = ['issuercountrycode', 'txvariantcode',\n",
    "       'currencycode', 'shoppercountrycode', 'shopperinteraction',\n",
    "        'cardverificationcodesupplied', 'cvcresponsecode',\n",
    "        'accountcode']\n",
    "data_with_dummies = pd.get_dummies( data, columns =  categorical)\n",
    "training_features, test_features, training_target, test_target, = train_test_split(data_with_dummies.drop(['simple_journal'], axis=1),\n",
    "                                               data_with_dummies['simple_journal'],\n",
    "                                               test_size = .1,\n",
    "                                               random_state=12)\n",
    "\n",
    "\n",
    "\n",
    "clf_rf = RandomForestClassifier(n_estimators=25, random_state=12)\n",
    "clf_rf.fit(training_features, training_target)\n",
    "\n",
    "res = clf_rf.predict(test_features)\n",
    "# confusion_matrix(training_target, res)\n",
    "\n",
    "\n",
    "pd.crosstab(res, test_target, rownames=['True'], colnames=['Predicted'], margins=True)\n"
   ]
  },
  {
   "cell_type": "markdown",
   "metadata": {},
   "source": [
    "### The stupidest model\n",
    "Before using scikit-learn, I like to start off by finding the simplest/stupidest model that will serve as a baseline to compare the rest of the models. This is a classification problem and if we define our evaluation metric as accuracy then guessing the class of most frequent occurrence is a very simple and stupid model."
   ]
  },
  {
   "cell_type": "code",
   "execution_count": 33,
   "metadata": {},
   "outputs": [
    {
     "data": {
      "text/plain": [
       "<seaborn.axisgrid.JointGrid at 0x1850554c208>"
      ]
     },
     "execution_count": 33,
     "metadata": {},
     "output_type": "execute_result"
    },
    {
     "data": {
      "image/png": "[encoded data removed]",
      "text/plain": [
       "<matplotlib.figure.Figure at 0x1850554c240>"
      ]
     },
     "metadata": {},
     "output_type": "display_data"
    }
   ],
   "source": [
    "# ax = sns.heatmap([data['currencycode'], data['shopperinteraction']], annot=True, fmt=\"d\")\n",
    "# data.currencycode.value_counts()\n",
    "# data.shopperinteraction.value_counts()\n",
    "\n",
    "df df == titanic.pivot_table( titanic.pivot_table(indexindex==''embark_townembark_town'', , columnscolumns==''age_groupage_group'', , valuesvalues==''farefare'', , aggfuncaggfunc==np.median)np.median)\n",
    "sns.heatmap(df, sns.heatmap(df, annotannot==TrueTrue, , fmtfmt==\"\".1f.1f\"\"))\n",
    "\n",
    "\n",
    "sns.jointplot(data=data, x='amount', y='bin', kind='reg', color='g')"
   ]
  },
  {
   "cell_type": "code",
   "execution_count": null,
   "metadata": {
    "collapsed": true
   },
   "outputs": [],
   "source": [
    "titanic.Survived.value_counts(normalize=True)"
   ]
  },
  {
   "cell_type": "markdown",
   "metadata": {},
   "source": [
    "Guessing 0 (death) will yield a correct choice 61.6% of the time. This is the number we need to beat.\n",
    "\n",
    "### A single predictor model with logistic regression\n",
    "Logistic regression is one of the simplest machine learning models for classification and a good first choice. Let's use the **`Fare`** as our predictor for survival.\n",
    "\n",
    "### Check for missing values\n",
    "Let's first check our feature for missing values."
   ]
  },
  {
   "cell_type": "code",
   "execution_count": 6,
   "metadata": {},
   "outputs": [
    {
     "data": {
      "text/plain": [
       "0"
      ]
     },
     "execution_count": 6,
     "metadata": {},
     "output_type": "execute_result"
    }
   ],
   "source": [
    "titanic.Fare.isnull().sum()"
   ]
  },
  {
   "cell_type": "markdown",
   "metadata": {},
   "source": [
    "### Make sure input is two dimensional\n",
    "The variable **`X`** must be two dimensional and if you select a single predictor as a Series you will only have a one dimensional array. To alleviate this select your column like this **`df[['colname]]`** which preserves it as a DataFrame"
   ]
  },
  {
   "cell_type": "code",
   "execution_count": 7,
   "metadata": {},
   "outputs": [
    {
     "data": {
      "text/plain": [
       "1"
      ]
     },
     "execution_count": 7,
     "metadata": {},
     "output_type": "execute_result"
    }
   ],
   "source": [
    "X = titanic['Fare'].values\n",
    "X.ndim"
   ]
  },
  {
   "cell_type": "code",
   "execution_count": 8,
   "metadata": {},
   "outputs": [
    {
     "data": {
      "text/plain": [
       "(891,)"
      ]
     },
     "execution_count": 8,
     "metadata": {},
     "output_type": "execute_result"
    }
   ],
   "source": [
    "X.shape"
   ]
  },
  {
   "cell_type": "code",
   "execution_count": 9,
   "metadata": {},
   "outputs": [
    {
     "data": {
      "text/plain": [
       "2"
      ]
     },
     "execution_count": 9,
     "metadata": {},
     "output_type": "execute_result"
    }
   ],
   "source": [
    "# correct way to select a single feature\n",
    "X = titanic[['Fare']].values\n",
    "X.ndim"
   ]
  },
  {
   "cell_type": "code",
   "execution_count": 10,
   "metadata": {},
   "outputs": [
    {
     "data": {
      "text/plain": [
       "numpy.ndarray"
      ]
     },
     "execution_count": 10,
     "metadata": {},
     "output_type": "execute_result"
    }
   ],
   "source": [
    "type(X)"
   ]
  },
  {
   "cell_type": "code",
   "execution_count": 11,
   "metadata": {},
   "outputs": [
    {
     "data": {
      "text/plain": [
       "0"
      ]
     },
     "execution_count": 11,
     "metadata": {},
     "output_type": "execute_result"
    }
   ],
   "source": [
    "titanic['Survived'].isnull().sum()"
   ]
  },
  {
   "cell_type": "code",
   "execution_count": 12,
   "metadata": {},
   "outputs": [
    {
     "data": {
      "text/plain": [
       "(891,)"
      ]
     },
     "execution_count": 12,
     "metadata": {},
     "output_type": "execute_result"
    }
   ],
   "source": [
    "y = titanic['Survived'].values\n",
    "y.shape"
   ]
  },
  {
   "cell_type": "markdown",
   "metadata": {},
   "source": [
    "### Import Estimator"
   ]
  },
  {
   "cell_type": "code",
   "execution_count": 13,
   "metadata": {
    "collapsed": true
   },
   "outputs": [],
   "source": [
    "from sklearn.linear_model import LogisticRegression"
   ]
  },
  {
   "cell_type": "markdown",
   "metadata": {},
   "source": [
    "### Instantiate estimator class to create an estimator object\n",
    "We will create an object that can perform logistic regression fitting. To do this, we instantiate the `LogisticRegression` class to form an estimator object. It is possible to pass many tuning parameters to the class constructor but here we leave the defaults."
   ]
  },
  {
   "cell_type": "code",
   "execution_count": 14,
   "metadata": {},
   "outputs": [
    {
     "data": {
      "text/plain": [
       "sklearn.linear_model.logistic.LogisticRegression"
      ]
     },
     "execution_count": 14,
     "metadata": {},
     "output_type": "execute_result"
    }
   ],
   "source": [
    "lr = LogisticRegression()\n",
    "type(lr)"
   ]
  },
  {
   "cell_type": "markdown",
   "metadata": {},
   "source": [
    "### No training and testing data for now\n",
    "We will not split our data into training and test sets for this first example. We will train on the entire dataset and also test our model on the entire dataset. This is very dangerous in practice but lets us skip a few steps for simplicity.\n",
    "\n",
    "### Use the `fit` method to train\n",
    "All supervised learning methods work the exact same way.\n",
    "\n",
    "> `estimator.fit(X, y)`"
   ]
  },
  {
   "cell_type": "code",
   "execution_count": 15,
   "metadata": {},
   "outputs": [
    {
     "data": {
      "text/plain": [
       "LogisticRegression(C=1.0, class_weight=None, dual=False, fit_intercept=True,\n",
       "          intercept_scaling=1, max_iter=100, multi_class='ovr', n_jobs=1,\n",
       "          penalty='l2', random_state=None, solver='liblinear', tol=0.0001,\n",
       "          verbose=0, warm_start=False)"
      ]
     },
     "execution_count": 15,
     "metadata": {},
     "output_type": "execute_result"
    }
   ],
   "source": [
    "lr.fit(X, y)"
   ]
  },
  {
   "cell_type": "markdown",
   "metadata": {},
   "source": [
    "### Make a prediction\n",
    "All supervised estimators have a **`predict`** method that accepts **`X`**, a numpy array with data you would like to get the predicted label."
   ]
  },
  {
   "cell_type": "code",
   "execution_count": 16,
   "metadata": {},
   "outputs": [
    {
     "data": {
      "text/plain": [
       "array([0, 1, 0, 0, 0, 0, 0, 0, 0, 0])"
      ]
     },
     "execution_count": 16,
     "metadata": {},
     "output_type": "execute_result"
    }
   ],
   "source": [
    "y_predict = lr.predict(X)\n",
    "y_predict[:10]"
   ]
  },
  {
   "cell_type": "markdown",
   "metadata": {},
   "source": [
    "### Manual scoring\n",
    "You can see how well your prediction did by comparing the outcome to the actual result."
   ]
  },
  {
   "cell_type": "code",
   "execution_count": 17,
   "metadata": {},
   "outputs": [
    {
     "data": {
      "text/plain": [
       "0.66554433221099885"
      ]
     },
     "execution_count": 17,
     "metadata": {},
     "output_type": "execute_result"
    }
   ],
   "source": [
    "(y == y_predict).mean()"
   ]
  },
  {
   "cell_type": "markdown",
   "metadata": {},
   "source": [
    "### Automated scoring\n",
    "Use the score method to let scikit-learn handle the predicting and accuracy checking."
   ]
  },
  {
   "cell_type": "code",
   "execution_count": 18,
   "metadata": {},
   "outputs": [
    {
     "data": {
      "text/plain": [
       "0.66554433221099885"
      ]
     },
     "execution_count": 18,
     "metadata": {},
     "output_type": "execute_result"
    }
   ],
   "source": [
    "lr.score(X, y)"
   ]
  },
  {
   "cell_type": "markdown",
   "metadata": {},
   "source": [
    "### A slight improvement!\n",
    "With this single predictor we able to jumpy from 61.6% accuracy to 66.6%. A 5% gain! This is good, but not exactly helpful as we tested on the training set.\n",
    "\n",
    "### Simple train test splitting\n",
    "Let's keep things simple and manually split our data in half and redo our machine learning."
   ]
  },
  {
   "cell_type": "code",
   "execution_count": 19,
   "metadata": {},
   "outputs": [
    {
     "data": {
      "text/plain": [
       "445"
      ]
     },
     "execution_count": 19,
     "metadata": {},
     "output_type": "execute_result"
    }
   ],
   "source": [
    "half = X.size // 2\n",
    "half"
   ]
  },
  {
   "cell_type": "code",
   "execution_count": 20,
   "metadata": {},
   "outputs": [
    {
     "data": {
      "text/plain": [
       "LogisticRegression(C=1.0, class_weight=None, dual=False, fit_intercept=True,\n",
       "          intercept_scaling=1, max_iter=100, multi_class='ovr', n_jobs=1,\n",
       "          penalty='l2', random_state=None, solver='liblinear', tol=0.0001,\n",
       "          verbose=0, warm_start=False)"
      ]
     },
     "execution_count": 20,
     "metadata": {},
     "output_type": "execute_result"
    }
   ],
   "source": [
    "X_train = X[:half]\n",
    "X_test = X[half:]\n",
    "y_train = y[:half]\n",
    "y_test = y[half:]\n",
    "\n",
    "lr.fit(X_train, y_train)"
   ]
  },
  {
   "cell_type": "code",
   "execution_count": 21,
   "metadata": {},
   "outputs": [
    {
     "data": {
      "text/plain": [
       "0.68834080717488788"
      ]
     },
     "execution_count": 21,
     "metadata": {},
     "output_type": "execute_result"
    }
   ],
   "source": [
    "lr.score(X_test, y_test)"
   ]
  },
  {
   "cell_type": "markdown",
   "metadata": {},
   "source": [
    "### Automated train test split\n",
    "The above model actually did better on the test set. This is an unlikely event but possible due to randomness in the data. We can automate this process with the function **`train_test_split`** from the **`model_selection`** sub_package."
   ]
  },
  {
   "cell_type": "code",
   "execution_count": 22,
   "metadata": {
    "collapsed": true
   },
   "outputs": [],
   "source": [
    "from sklearn.model_selection import train_test_split"
   ]
  },
  {
   "cell_type": "code",
   "execution_count": 23,
   "metadata": {
    "collapsed": true
   },
   "outputs": [],
   "source": [
    "# by default it does a 75/25 split\n",
    "X_train, X_test, y_train, y_test = train_test_split(X, y, train_size=.7, random_state=1234)"
   ]
  },
  {
   "cell_type": "code",
   "execution_count": 24,
   "metadata": {},
   "outputs": [
    {
     "data": {
      "text/plain": [
       "0.6992143658810326"
      ]
     },
     "execution_count": 24,
     "metadata": {},
     "output_type": "execute_result"
    }
   ],
   "source": [
    "len(X_train)/ len(X)"
   ]
  },
  {
   "cell_type": "code",
   "execution_count": 25,
   "metadata": {},
   "outputs": [
    {
     "data": {
      "text/plain": [
       "0.65298507462686572"
      ]
     },
     "execution_count": 25,
     "metadata": {},
     "output_type": "execute_result"
    }
   ],
   "source": [
    "lr.fit(X_train, y_train)\n",
    "lr.score(X_test, y_test)"
   ]
  },
  {
   "cell_type": "markdown",
   "metadata": {},
   "source": [
    "### Use k-fold cross validation\n",
    "A better approach is to use k-fold cross validation. Here we need to look into the **`model_selection`** sub-package and import the **`KFold`** class."
   ]
  },
  {
   "cell_type": "code",
   "execution_count": 26,
   "metadata": {
    "collapsed": true
   },
   "outputs": [],
   "source": [
    "from sklearn.model_selection import KFold"
   ]
  },
  {
   "cell_type": "code",
   "execution_count": 27,
   "metadata": {
    "collapsed": true
   },
   "outputs": [],
   "source": [
    "kf = KFold(n_splits=5, shuffle=True, random_state=1234)"
   ]
  },
  {
   "cell_type": "code",
   "execution_count": 28,
   "metadata": {},
   "outputs": [
    {
     "data": {
      "text/plain": [
       "[0.63687150837988826,\n",
       " 0.6853932584269663,\n",
       " 0.6741573033707865,\n",
       " 0.6460674157303371,\n",
       " 0.6853932584269663]"
      ]
     },
     "execution_count": 28,
     "metadata": {},
     "output_type": "execute_result"
    }
   ],
   "source": [
    "scores = []\n",
    "for train_index, test_index in kf.split(X):\n",
    "    X_train, X_test = X[train_index], X[test_index]\n",
    "    y_train, y_test = y[train_index], y[test_index]\n",
    "    lr.fit(X_train, y_train)\n",
    "    scores.append(lr.score(X_test, y_test))\n",
    "    \n",
    "scores"
   ]
  },
  {
   "cell_type": "code",
   "execution_count": 29,
   "metadata": {},
   "outputs": [
    {
     "data": {
      "text/plain": [
       "0.19977553310886645"
      ]
     },
     "execution_count": 29,
     "metadata": {},
     "output_type": "execute_result"
    }
   ],
   "source": [
    "len(test_index) / len(X)"
   ]
  },
  {
   "cell_type": "markdown",
   "metadata": {},
   "source": [
    "### Automate use of k-fold\n",
    "The function **`cross_val_score`** automates the above.  Pass it the estimator, the X and y and the cross validation object."
   ]
  },
  {
   "cell_type": "code",
   "execution_count": 30,
   "metadata": {
    "collapsed": true
   },
   "outputs": [],
   "source": [
    "from sklearn.model_selection import cross_val_score"
   ]
  },
  {
   "cell_type": "code",
   "execution_count": 31,
   "metadata": {},
   "outputs": [
    {
     "data": {
      "text/plain": [
       "array([ 0.63687151,  0.68539326,  0.6741573 ,  0.64606742,  0.68539326])"
      ]
     },
     "execution_count": 31,
     "metadata": {},
     "output_type": "execute_result"
    }
   ],
   "source": [
    "# these are the same from above\n",
    "new_scores = cross_val_score(lr, X, y, cv=kf)\n",
    "new_scores"
   ]
  },
  {
   "cell_type": "markdown",
   "metadata": {},
   "source": [
    "### Or just pass it an integer\n",
    "If you let the **`cv`** parameter in **`cross_val_score`** be an int, it will perform stratified kfold cross validation with that many folds."
   ]
  },
  {
   "cell_type": "code",
   "execution_count": 32,
   "metadata": {},
   "outputs": [
    {
     "data": {
      "text/plain": [
       "array([ 0.58888889,  0.57777778,  0.69662921,  0.71910112,  0.66292135,\n",
       "        0.66292135,  0.68539326,  0.68539326,  0.68539326,  0.67045455])"
      ]
     },
     "execution_count": 32,
     "metadata": {},
     "output_type": "execute_result"
    }
   ],
   "source": [
    "# these are the same from above\n",
    "new_scores = cross_val_score(lr, X, y, cv=10)\n",
    "new_scores"
   ]
  },
  {
   "cell_type": "code",
   "execution_count": 33,
   "metadata": {},
   "outputs": [
    {
     "data": {
      "text/plain": [
       "0.66348740211099755"
      ]
     },
     "execution_count": 33,
     "metadata": {},
     "output_type": "execute_result"
    }
   ],
   "source": [
    "new_scores.mean()"
   ]
  },
  {
   "cell_type": "markdown",
   "metadata": {},
   "source": [
    "### Making a plot\n",
    "Our simple model is great for making a plot. We will use the **`predict_proba`** estimator method to get back probabilities between 0 and 1 for the entire range of our data. This method returns a probability of being in each class."
   ]
  },
  {
   "cell_type": "code",
   "execution_count": 34,
   "metadata": {},
   "outputs": [
    {
     "data": {
      "text/plain": [
       "(0.0, 512.32920000000001)"
      ]
     },
     "execution_count": 34,
     "metadata": {},
     "output_type": "execute_result"
    }
   ],
   "source": [
    "X.min(), X.max()"
   ]
  },
  {
   "cell_type": "code",
   "execution_count": 35,
   "metadata": {},
   "outputs": [
    {
     "data": {
      "text/plain": [
       "array([[ 0.71766335,  0.28233665],\n",
       "       [ 0.70160006,  0.29839994],\n",
       "       [ 0.68502397,  0.31497603],\n",
       "       [ 0.66796286,  0.33203714],\n",
       "       [ 0.65044917,  0.34955083],\n",
       "       [ 0.63251992,  0.36748008],\n",
       "       [ 0.61421647,  0.38578353],\n",
       "       [ 0.59558426,  0.40441574],\n",
       "       [ 0.57667237,  0.42332763],\n",
       "       [ 0.55753312,  0.44246688]])"
      ]
     },
     "execution_count": 35,
     "metadata": {},
     "output_type": "execute_result"
    }
   ],
   "source": [
    "# must use .reshape(-1, 1) to make it into a 2 dimensional array. Annoying gotcha\n",
    "x = np.linspace(X.min(), X.max(), num=100).reshape(-1, 1)\n",
    "lr = LogisticRegression()\n",
    "lr.fit(X, y) # fitting all of the data. Should cross validate first.\n",
    "probs = lr.predict_proba(x)\n",
    "survival_probs = probs[:, 1]\n",
    "\n",
    "probs[:10]"
   ]
  },
  {
   "cell_type": "code",
   "execution_count": 36,
   "metadata": {
    "collapsed": true
   },
   "outputs": [],
   "source": [
    "import matplotlib.pyplot as plt\n",
    "%matplotlib inline"
   ]
  },
  {
   "cell_type": "code",
   "execution_count": 37,
   "metadata": {},
   "outputs": [
    {
     "data": {
      "text/plain": [
       "<matplotlib.collections.PathCollection at 0x116a22940>"
      ]
     },
     "execution_count": 37,
     "metadata": {},
     "output_type": "execute_result"
    },
    {
     "data": {
      "image/png": "[encoded data removed]",
      "text/plain": [
       "<matplotlib.figure.Figure at 0x116a22978>"
      ]
     },
     "metadata": {},
     "output_type": "display_data"
    }
   ],
   "source": [
    "plt.plot(x, survival_probs)\n",
    "plt.scatter(X, y)"
   ]
  },
  {
   "cell_type": "markdown",
   "metadata": {},
   "source": [
    "## Hyper-Parameters\n",
    "The logistic regression model that we have been running has actually many hyper-parameters you can tune. **Hyper-parameters** are set during the construction of the estimator. You can use the `get_params` method to find them."
   ]
  },
  {
   "cell_type": "code",
   "execution_count": 38,
   "metadata": {},
   "outputs": [
    {
     "data": {
      "text/plain": [
       "{'C': 1.0,\n",
       " 'class_weight': None,\n",
       " 'dual': False,\n",
       " 'fit_intercept': True,\n",
       " 'intercept_scaling': 1,\n",
       " 'max_iter': 100,\n",
       " 'multi_class': 'ovr',\n",
       " 'n_jobs': 1,\n",
       " 'penalty': 'l2',\n",
       " 'random_state': None,\n",
       " 'solver': 'liblinear',\n",
       " 'tol': 0.0001,\n",
       " 'verbose': 0,\n",
       " 'warm_start': False}"
      ]
     },
     "execution_count": 38,
     "metadata": {},
     "output_type": "execute_result"
    }
   ],
   "source": [
    "lr.get_params()"
   ]
  },
  {
   "cell_type": "markdown",
   "metadata": {},
   "source": [
    "### Regularization\n",
    "By default, scikit-learn enforcs some regularization on the model with the **`C`** parameter. The higher the value of **`C`** the less regularization and more likely to overfit and have high variance. The smaller **`C`** is, the more constrained the model is and the more stable it is to different data and the more bias it will have.\n",
    "\n",
    "### Hyper-parameter tuning\n",
    "Let's manually tune the regularization hyper-parameter **`C`**."
   ]
  },
  {
   "cell_type": "code",
   "execution_count": 39,
   "metadata": {},
   "outputs": [
    {
     "name": "stdout",
     "output_type": "stream",
     "text": [
      "[ 0.39664804  0.37078652  0.41011236  0.41573034  0.3988764 ]\n"
     ]
    },
    {
     "data": {
      "text/plain": [
       "0.39843073253405309"
      ]
     },
     "execution_count": 39,
     "metadata": {},
     "output_type": "execute_result"
    }
   ],
   "source": [
    "# lots of regularization, terrible model!\n",
    "lr = LogisticRegression(C=.0001)\n",
    "kf = KFold(n_splits=5, shuffle=True, random_state=1234)\n",
    "new_scores2 = cross_val_score(lr, X, y, cv=kf)\n",
    "print(new_scores2)\n",
    "new_scores2.mean()"
   ]
  },
  {
   "cell_type": "code",
   "execution_count": 40,
   "metadata": {},
   "outputs": [
    {
     "name": "stdout",
     "output_type": "stream",
     "text": [
      "[ 0.63687151  0.68539326  0.6741573   0.64606742  0.68539326]\n"
     ]
    },
    {
     "data": {
      "text/plain": [
       "0.66557654886698892"
      ]
     },
     "execution_count": 40,
     "metadata": {},
     "output_type": "execute_result"
    }
   ],
   "source": [
    "# Almost no regularization. Same fit as before because of simple model\n",
    "# Normally, would get different model with less regularization\n",
    "lr = LogisticRegression(C=1000000)\n",
    "kf = KFold(n_splits=5, shuffle=True, random_state=1234)\n",
    "new_scores2 = cross_val_score(lr, X, y, cv=kf)\n",
    "print(new_scores2)\n",
    "new_scores2.mean()"
   ]
  },
  {
   "cell_type": "code",
   "execution_count": 41,
   "metadata": {},
   "outputs": [
    {
     "name": "stdout",
     "output_type": "stream",
     "text": [
      "[ 0.63687151  0.69101124  0.6741573   0.64606742  0.68539326]\n"
     ]
    },
    {
     "data": {
      "text/plain": [
       "0.66670014437260694"
      ]
     },
     "execution_count": 41,
     "metadata": {},
     "output_type": "execute_result"
    }
   ],
   "source": [
    "# Use .5 and get a little better\n",
    "lr = LogisticRegression(C=.5)\n",
    "kf = KFold(n_splits=5, shuffle=True, random_state=1234)\n",
    "new_scores2 = cross_val_score(lr, X, y, cv=kf)\n",
    "print(new_scores2)\n",
    "new_scores2.mean()"
   ]
  },
  {
   "cell_type": "code",
   "execution_count": 42,
   "metadata": {},
   "outputs": [
    {
     "name": "stdout",
     "output_type": "stream",
     "text": [
      "[ 0.6424581   0.71348315  0.67977528  0.65168539  0.69101124]\n"
     ]
    },
    {
     "data": {
      "text/plain": [
       "0.67568263134768691"
      ]
     },
     "execution_count": 42,
     "metadata": {},
     "output_type": "execute_result"
    }
   ],
   "source": [
    "# Even better with .01\n",
    "lr = LogisticRegression(C=.01)\n",
    "kf = KFold(n_splits=5, shuffle=True, random_state=1234)\n",
    "new_scores2 = cross_val_score(lr, X, y, cv=kf)\n",
    "print(new_scores2)\n",
    "new_scores2.mean()"
   ]
  },
  {
   "cell_type": "markdown",
   "metadata": {},
   "source": [
    "## Automating Hyper-parameter tuning\n",
    "It is possible to automate the tuning of hyper-parameters."
   ]
  },
  {
   "cell_type": "code",
   "execution_count": 43,
   "metadata": {
    "collapsed": true
   },
   "outputs": [],
   "source": [
    "from sklearn.model_selection import GridSearchCV"
   ]
  },
  {
   "cell_type": "code",
   "execution_count": 44,
   "metadata": {},
   "outputs": [
    {
     "data": {
      "text/plain": [
       "{'C': 0.0057223676593502141}"
      ]
     },
     "execution_count": 44,
     "metadata": {},
     "output_type": "execute_result"
    }
   ],
   "source": [
    "param_grid = {'C':np.logspace(-5,2, num=100)}\n",
    "lr = LogisticRegression()\n",
    "kf = KFold(n_splits=5, shuffle=True, random_state=1234)\n",
    "gscv = GridSearchCV(lr, param_grid=param_grid, cv=kf)\n",
    "gscv.fit(X, y)\n",
    "gscv.best_params_"
   ]
  },
  {
   "cell_type": "code",
   "execution_count": 45,
   "metadata": {},
   "outputs": [
    {
     "name": "stdout",
     "output_type": "stream",
     "text": [
      "[ 0.65921788  0.71348315  0.68539326  0.66292135  0.69101124]\n"
     ]
    },
    {
     "data": {
      "text/plain": [
       "0.6824053731718035"
      ]
     },
     "execution_count": 45,
     "metadata": {},
     "output_type": "execute_result"
    }
   ],
   "source": [
    "# Even better with best hyper parameter!\n",
    "C = gscv.best_params_['C']\n",
    "lr = LogisticRegression(C=C)\n",
    "kf = KFold(n_splits=5, shuffle=True, random_state=1234)\n",
    "new_scores2 = cross_val_score(lr, X, y, cv=kf)\n",
    "print(new_scores2)\n",
    "new_scores2.mean()"
   ]
  },
  {
   "cell_type": "markdown",
   "metadata": {},
   "source": [
    "## Model Parameters\n",
    "Parameterized models such as logistic regression have parameters that are found during model training. This is different than the hyper-parameters set before training. Use the **`coef_`** and the **`intercept_`** attributes to get them."
   ]
  },
  {
   "cell_type": "code",
   "execution_count": 46,
   "metadata": {},
   "outputs": [
    {
     "data": {
      "text/plain": [
       "LogisticRegression(C=0.0057223676593502141, class_weight=None, dual=False,\n",
       "          fit_intercept=True, intercept_scaling=1, max_iter=100,\n",
       "          multi_class='ovr', n_jobs=1, penalty='l2', random_state=None,\n",
       "          solver='liblinear', tol=0.0001, verbose=0, warm_start=False)"
      ]
     },
     "execution_count": 46,
     "metadata": {},
     "output_type": "execute_result"
    }
   ],
   "source": [
    "lr.fit(X, y)"
   ]
  },
  {
   "cell_type": "code",
   "execution_count": 47,
   "metadata": {},
   "outputs": [
    {
     "data": {
      "text/plain": [
       "array([-0.39047339])"
      ]
     },
     "execution_count": 47,
     "metadata": {},
     "output_type": "execute_result"
    }
   ],
   "source": [
    "lr.intercept_"
   ]
  },
  {
   "cell_type": "code",
   "execution_count": 48,
   "metadata": {},
   "outputs": [
    {
     "data": {
      "text/plain": [
       "array([[ 0.00745548]])"
      ]
     },
     "execution_count": 48,
     "metadata": {},
     "output_type": "execute_result"
    }
   ],
   "source": [
    "lr.coef_"
   ]
  },
  {
   "cell_type": "markdown",
   "metadata": {},
   "source": [
    "### Use a categorical feature\n",
    "Let's build a model with a categorical feature. **Fare** was numeric and didn't need a transformation. Categorical features need to binarized into their own columns. Let's use **`Sex`** as our lone predictor."
   ]
  },
  {
   "cell_type": "code",
   "execution_count": 49,
   "metadata": {},
   "outputs": [
    {
     "data": {
      "text/html": [
       "<div>\n",
       "<style>\n",
       "    .dataframe thead tr:only-child th {\n",
       "        text-align: right;\n",
       "    }\n",
       "\n",
       "    .dataframe thead th {\n",
       "        text-align: left;\n",
       "    }\n",
       "\n",
       "    .dataframe tbody tr th {\n",
       "        vertical-align: top;\n",
       "    }\n",
       "</style>\n",
       "<table border=\"1\" class=\"dataframe\">\n",
       "  <thead>\n",
       "    <tr style=\"text-align: right;\">\n",
       "      <th></th>\n",
       "      <th>female</th>\n",
       "      <th>male</th>\n",
       "    </tr>\n",
       "  </thead>\n",
       "  <tbody>\n",
       "    <tr>\n",
       "      <th>0</th>\n",
       "      <td>0</td>\n",
       "      <td>1</td>\n",
       "    </tr>\n",
       "    <tr>\n",
       "      <th>1</th>\n",
       "      <td>1</td>\n",
       "      <td>0</td>\n",
       "    </tr>\n",
       "    <tr>\n",
       "      <th>2</th>\n",
       "      <td>1</td>\n",
       "      <td>0</td>\n",
       "    </tr>\n",
       "    <tr>\n",
       "      <th>3</th>\n",
       "      <td>1</td>\n",
       "      <td>0</td>\n",
       "    </tr>\n",
       "    <tr>\n",
       "      <th>4</th>\n",
       "      <td>0</td>\n",
       "      <td>1</td>\n",
       "    </tr>\n",
       "  </tbody>\n",
       "</table>\n",
       "</div>"
      ],
      "text/plain": [
       "   female  male\n",
       "0       0     1\n",
       "1       1     0\n",
       "2       1     0\n",
       "3       1     0\n",
       "4       0     1"
      ]
     },
     "execution_count": 49,
     "metadata": {},
     "output_type": "execute_result"
    }
   ],
   "source": [
    "pd.get_dummies(titanic['Sex']).head()"
   ]
  },
  {
   "cell_type": "code",
   "execution_count": 50,
   "metadata": {
    "collapsed": true
   },
   "outputs": [],
   "source": [
    "X = pd.get_dummies(titanic['Sex']).values"
   ]
  },
  {
   "cell_type": "code",
   "execution_count": 51,
   "metadata": {
    "collapsed": true
   },
   "outputs": [],
   "source": [
    "lr = LogisticRegression()"
   ]
  },
  {
   "cell_type": "code",
   "execution_count": 52,
   "metadata": {},
   "outputs": [
    {
     "data": {
      "text/plain": [
       "LogisticRegression(C=1.0, class_weight=None, dual=False, fit_intercept=True,\n",
       "          intercept_scaling=1, max_iter=100, multi_class='ovr', n_jobs=1,\n",
       "          penalty='l2', random_state=None, solver='liblinear', tol=0.0001,\n",
       "          verbose=0, warm_start=False)"
      ]
     },
     "execution_count": 52,
     "metadata": {},
     "output_type": "execute_result"
    }
   ],
   "source": [
    "lr.fit(X, y)"
   ]
  },
  {
   "cell_type": "code",
   "execution_count": 53,
   "metadata": {},
   "outputs": [
    {
     "data": {
      "text/plain": [
       "0.78675645342312006"
      ]
     },
     "execution_count": 53,
     "metadata": {},
     "output_type": "execute_result"
    }
   ],
   "source": [
    "lr.score(X,y)"
   ]
  },
  {
   "cell_type": "code",
   "execution_count": 54,
   "metadata": {},
   "outputs": [
    {
     "data": {
      "text/plain": [
       "array([[ 1.17223765, -1.30729862]])"
      ]
     },
     "execution_count": 54,
     "metadata": {},
     "output_type": "execute_result"
    }
   ],
   "source": [
    "lr.coef_"
   ]
  },
  {
   "cell_type": "code",
   "execution_count": 55,
   "metadata": {},
   "outputs": [
    {
     "data": {
      "text/plain": [
       "array([[ 0.80881978,  0.19118022],\n",
       "       [ 0.26169512,  0.73830488],\n",
       "       [ 0.26169512,  0.73830488],\n",
       "       ..., \n",
       "       [ 0.26169512,  0.73830488],\n",
       "       [ 0.80881978,  0.19118022],\n",
       "       [ 0.80881978,  0.19118022]])"
      ]
     },
     "execution_count": 55,
     "metadata": {},
     "output_type": "execute_result"
    }
   ],
   "source": [
    "lr.predict_proba(X)"
   ]
  },
  {
   "cell_type": "markdown",
   "metadata": {},
   "source": [
    "### Removing first level from `get_dummies`\n",
    "This should not have an affect on our model, just a little interpretation difference with the parameters."
   ]
  },
  {
   "cell_type": "code",
   "execution_count": 56,
   "metadata": {},
   "outputs": [
    {
     "data": {
      "text/html": [
       "<div>\n",
       "<style>\n",
       "    .dataframe thead tr:only-child th {\n",
       "        text-align: right;\n",
       "    }\n",
       "\n",
       "    .dataframe thead th {\n",
       "        text-align: left;\n",
       "    }\n",
       "\n",
       "    .dataframe tbody tr th {\n",
       "        vertical-align: top;\n",
       "    }\n",
       "</style>\n",
       "<table border=\"1\" class=\"dataframe\">\n",
       "  <thead>\n",
       "    <tr style=\"text-align: right;\">\n",
       "      <th></th>\n",
       "      <th>male</th>\n",
       "    </tr>\n",
       "  </thead>\n",
       "  <tbody>\n",
       "    <tr>\n",
       "      <th>0</th>\n",
       "      <td>1</td>\n",
       "    </tr>\n",
       "    <tr>\n",
       "      <th>1</th>\n",
       "      <td>0</td>\n",
       "    </tr>\n",
       "    <tr>\n",
       "      <th>2</th>\n",
       "      <td>0</td>\n",
       "    </tr>\n",
       "    <tr>\n",
       "      <th>3</th>\n",
       "      <td>0</td>\n",
       "    </tr>\n",
       "    <tr>\n",
       "      <th>4</th>\n",
       "      <td>1</td>\n",
       "    </tr>\n",
       "  </tbody>\n",
       "</table>\n",
       "</div>"
      ],
      "text/plain": [
       "   male\n",
       "0     1\n",
       "1     0\n",
       "2     0\n",
       "3     0\n",
       "4     1"
      ]
     },
     "execution_count": 56,
     "metadata": {},
     "output_type": "execute_result"
    }
   ],
   "source": [
    "pd.get_dummies(titanic['Sex'], drop_first=True).head()"
   ]
  },
  {
   "cell_type": "code",
   "execution_count": 57,
   "metadata": {},
   "outputs": [
    {
     "data": {
      "text/plain": [
       "0.78675645342312006"
      ]
     },
     "execution_count": 57,
     "metadata": {},
     "output_type": "execute_result"
    }
   ],
   "source": [
    "X = pd.get_dummies(titanic['Sex'], drop_first=True).values\n",
    "lr.fit(X, y)\n",
    "lr.score(X, y)"
   ]
  },
  {
   "cell_type": "code",
   "execution_count": 58,
   "metadata": {},
   "outputs": [
    {
     "data": {
      "text/plain": [
       "array([[-2.43010712]])"
      ]
     },
     "execution_count": 58,
     "metadata": {},
     "output_type": "execute_result"
    }
   ],
   "source": [
    "lr.coef_"
   ]
  },
  {
   "cell_type": "code",
   "execution_count": 59,
   "metadata": {},
   "outputs": [
    {
     "data": {
      "text/plain": [
       "array([[ 0.80687457,  0.19312543],\n",
       "       [ 0.26888662,  0.73111338],\n",
       "       [ 0.26888662,  0.73111338],\n",
       "       ..., \n",
       "       [ 0.26888662,  0.73111338],\n",
       "       [ 0.80687457,  0.19312543],\n",
       "       [ 0.80687457,  0.19312543]])"
      ]
     },
     "execution_count": 59,
     "metadata": {},
     "output_type": "execute_result"
    }
   ],
   "source": [
    "lr.predict_proba(X)"
   ]
  },
  {
   "cell_type": "markdown",
   "metadata": {},
   "source": [
    "### The stupid model is in Scikit-learn\n",
    "There is actually an estimator in the **`dummy`** sub-package."
   ]
  },
  {
   "cell_type": "code",
   "execution_count": 60,
   "metadata": {
    "collapsed": true
   },
   "outputs": [],
   "source": [
    "from sklearn.dummy import DummyClassifier"
   ]
  },
  {
   "cell_type": "code",
   "execution_count": 61,
   "metadata": {
    "collapsed": true
   },
   "outputs": [],
   "source": [
    "dc = DummyClassifier(strategy='most_frequent')"
   ]
  },
  {
   "cell_type": "code",
   "execution_count": 62,
   "metadata": {},
   "outputs": [
    {
     "data": {
      "text/plain": [
       "array([0, 0, 0, 0, 0, 0, 0, 0, 0, 0, 0, 0, 0, 0, 0, 0, 0, 0, 0, 0])"
      ]
     },
     "execution_count": 62,
     "metadata": {},
     "output_type": "execute_result"
    }
   ],
   "source": [
    "dc.fit(X, y)\n",
    "dc.predict(X)[:20] # all 0"
   ]
  },
  {
   "cell_type": "code",
   "execution_count": 63,
   "metadata": {},
   "outputs": [
    {
     "data": {
      "text/plain": [
       "0.61616161616161613"
      ]
     },
     "execution_count": 63,
     "metadata": {},
     "output_type": "execute_result"
    }
   ],
   "source": [
    "# same as from top\n",
    "dc.score(X, y)"
   ]
  },
  {
   "cell_type": "markdown",
   "metadata": {},
   "source": [
    "### Use categorical and continuous features"
   ]
  },
  {
   "cell_type": "code",
   "execution_count": 64,
   "metadata": {},
   "outputs": [
    {
     "data": {
      "text/plain": [
       "Fare    0\n",
       "Sex     0\n",
       "dtype: int64"
      ]
     },
     "execution_count": 64,
     "metadata": {},
     "output_type": "execute_result"
    }
   ],
   "source": [
    "titanic[['Fare', 'Sex']].isnull().sum()"
   ]
  },
  {
   "cell_type": "code",
   "execution_count": 65,
   "metadata": {},
   "outputs": [
    {
     "data": {
      "text/html": [
       "<div>\n",
       "<style>\n",
       "    .dataframe thead tr:only-child th {\n",
       "        text-align: right;\n",
       "    }\n",
       "\n",
       "    .dataframe thead th {\n",
       "        text-align: left;\n",
       "    }\n",
       "\n",
       "    .dataframe tbody tr th {\n",
       "        vertical-align: top;\n",
       "    }\n",
       "</style>\n",
       "<table border=\"1\" class=\"dataframe\">\n",
       "  <thead>\n",
       "    <tr style=\"text-align: right;\">\n",
       "      <th></th>\n",
       "      <th>Fare</th>\n",
       "      <th>Sex_female</th>\n",
       "      <th>Sex_male</th>\n",
       "    </tr>\n",
       "  </thead>\n",
       "  <tbody>\n",
       "    <tr>\n",
       "      <th>0</th>\n",
       "      <td>7.2500</td>\n",
       "      <td>0</td>\n",
       "      <td>1</td>\n",
       "    </tr>\n",
       "    <tr>\n",
       "      <th>1</th>\n",
       "      <td>71.2833</td>\n",
       "      <td>1</td>\n",
       "      <td>0</td>\n",
       "    </tr>\n",
       "    <tr>\n",
       "      <th>2</th>\n",
       "      <td>7.9250</td>\n",
       "      <td>1</td>\n",
       "      <td>0</td>\n",
       "    </tr>\n",
       "    <tr>\n",
       "      <th>3</th>\n",
       "      <td>53.1000</td>\n",
       "      <td>1</td>\n",
       "      <td>0</td>\n",
       "    </tr>\n",
       "    <tr>\n",
       "      <th>4</th>\n",
       "      <td>8.0500</td>\n",
       "      <td>0</td>\n",
       "      <td>1</td>\n",
       "    </tr>\n",
       "  </tbody>\n",
       "</table>\n",
       "</div>"
      ],
      "text/plain": [
       "      Fare  Sex_female  Sex_male\n",
       "0   7.2500           0         1\n",
       "1  71.2833           1         0\n",
       "2   7.9250           1         0\n",
       "3  53.1000           1         0\n",
       "4   8.0500           0         1"
      ]
     },
     "execution_count": 65,
     "metadata": {},
     "output_type": "execute_result"
    }
   ],
   "source": [
    "# get_dummies only changes the string or categorical features\n",
    "pd.get_dummies(titanic[['Fare', 'Sex']]).head()"
   ]
  },
  {
   "cell_type": "code",
   "execution_count": 66,
   "metadata": {},
   "outputs": [
    {
     "name": "stdout",
     "output_type": "stream",
     "text": [
      "[ 0.8         0.77777778  0.7752809   0.84269663  0.7752809   0.76404494\n",
      "  0.75280899  0.75280899  0.82022472  0.76136364]\n"
     ]
    },
    {
     "data": {
      "text/plain": [
       "0.78222874815571453"
      ]
     },
     "execution_count": 66,
     "metadata": {},
     "output_type": "execute_result"
    }
   ],
   "source": [
    "X = pd.get_dummies(titanic[['Fare', 'Sex']]).values\n",
    "\n",
    "lr = LogisticRegression()\n",
    "scores = cross_val_score(lr, X, y, cv=10)\n",
    "print(scores)\n",
    "scores.mean()"
   ]
  },
  {
   "cell_type": "code",
   "execution_count": 67,
   "metadata": {},
   "outputs": [
    {
     "name": "stdout",
     "output_type": "stream",
     "text": [
      "[ 0.81111111  0.78888889  0.7752809   0.84269663  0.79775281  0.7752809\n",
      "  0.76404494  0.74157303  0.80898876  0.76136364]\n"
     ]
    },
    {
     "data": {
      "text/plain": [
       "0.7866981613891727"
      ]
     },
     "execution_count": 67,
     "metadata": {},
     "output_type": "execute_result"
    }
   ],
   "source": [
    "# no benefit from using Fare\n",
    "X = pd.get_dummies(titanic[['Sex']]).values\n",
    "lr = LogisticRegression()\n",
    "scores = cross_val_score(lr, X, y, cv=10)\n",
    "print(scores)\n",
    "scores.mean()"
   ]
  },
  {
   "cell_type": "markdown",
   "metadata": {},
   "source": [
    "### Categorical variables masquerading as numeric"
   ]
  },
  {
   "cell_type": "code",
   "execution_count": 68,
   "metadata": {},
   "outputs": [
    {
     "data": {
      "text/html": [
       "<div>\n",
       "<style>\n",
       "    .dataframe thead tr:only-child th {\n",
       "        text-align: right;\n",
       "    }\n",
       "\n",
       "    .dataframe thead th {\n",
       "        text-align: left;\n",
       "    }\n",
       "\n",
       "    .dataframe tbody tr th {\n",
       "        vertical-align: top;\n",
       "    }\n",
       "</style>\n",
       "<table border=\"1\" class=\"dataframe\">\n",
       "  <thead>\n",
       "    <tr style=\"text-align: right;\">\n",
       "      <th></th>\n",
       "      <th>PassengerId</th>\n",
       "      <th>Survived</th>\n",
       "      <th>Pclass</th>\n",
       "      <th>Name</th>\n",
       "      <th>Sex</th>\n",
       "      <th>Age</th>\n",
       "      <th>SibSp</th>\n",
       "      <th>Parch</th>\n",
       "      <th>Ticket</th>\n",
       "      <th>Fare</th>\n",
       "      <th>Cabin</th>\n",
       "      <th>Embarked</th>\n",
       "    </tr>\n",
       "  </thead>\n",
       "  <tbody>\n",
       "    <tr>\n",
       "      <th>0</th>\n",
       "      <td>1</td>\n",
       "      <td>0</td>\n",
       "      <td>3</td>\n",
       "      <td>Braund, Mr. Owen Harris</td>\n",
       "      <td>male</td>\n",
       "      <td>22.0</td>\n",
       "      <td>1</td>\n",
       "      <td>0</td>\n",
       "      <td>A/5 21171</td>\n",
       "      <td>7.2500</td>\n",
       "      <td>NaN</td>\n",
       "      <td>S</td>\n",
       "    </tr>\n",
       "    <tr>\n",
       "      <th>1</th>\n",
       "      <td>2</td>\n",
       "      <td>1</td>\n",
       "      <td>1</td>\n",
       "      <td>Cumings, Mrs. John Bradley (Florence Briggs Th...</td>\n",
       "      <td>female</td>\n",
       "      <td>38.0</td>\n",
       "      <td>1</td>\n",
       "      <td>0</td>\n",
       "      <td>PC 17599</td>\n",
       "      <td>71.2833</td>\n",
       "      <td>C85</td>\n",
       "      <td>C</td>\n",
       "    </tr>\n",
       "    <tr>\n",
       "      <th>2</th>\n",
       "      <td>3</td>\n",
       "      <td>1</td>\n",
       "      <td>3</td>\n",
       "      <td>Heikkinen, Miss. Laina</td>\n",
       "      <td>female</td>\n",
       "      <td>26.0</td>\n",
       "      <td>0</td>\n",
       "      <td>0</td>\n",
       "      <td>STON/O2. 3101282</td>\n",
       "      <td>7.9250</td>\n",
       "      <td>NaN</td>\n",
       "      <td>S</td>\n",
       "    </tr>\n",
       "    <tr>\n",
       "      <th>3</th>\n",
       "      <td>4</td>\n",
       "      <td>1</td>\n",
       "      <td>1</td>\n",
       "      <td>Futrelle, Mrs. Jacques Heath (Lily May Peel)</td>\n",
       "      <td>female</td>\n",
       "      <td>35.0</td>\n",
       "      <td>1</td>\n",
       "      <td>0</td>\n",
       "      <td>113803</td>\n",
       "      <td>53.1000</td>\n",
       "      <td>C123</td>\n",
       "      <td>S</td>\n",
       "    </tr>\n",
       "    <tr>\n",
       "      <th>4</th>\n",
       "      <td>5</td>\n",
       "      <td>0</td>\n",
       "      <td>3</td>\n",
       "      <td>Allen, Mr. William Henry</td>\n",
       "      <td>male</td>\n",
       "      <td>35.0</td>\n",
       "      <td>0</td>\n",
       "      <td>0</td>\n",
       "      <td>373450</td>\n",
       "      <td>8.0500</td>\n",
       "      <td>NaN</td>\n",
       "      <td>S</td>\n",
       "    </tr>\n",
       "  </tbody>\n",
       "</table>\n",
       "</div>"
      ],
      "text/plain": [
       "   PassengerId  Survived  Pclass  \\\n",
       "0            1         0       3   \n",
       "1            2         1       1   \n",
       "2            3         1       3   \n",
       "3            4         1       1   \n",
       "4            5         0       3   \n",
       "\n",
       "                                                Name     Sex   Age  SibSp  \\\n",
       "0                            Braund, Mr. Owen Harris    male  22.0      1   \n",
       "1  Cumings, Mrs. John Bradley (Florence Briggs Th...  female  38.0      1   \n",
       "2                             Heikkinen, Miss. Laina  female  26.0      0   \n",
       "3       Futrelle, Mrs. Jacques Heath (Lily May Peel)  female  35.0      1   \n",
       "4                           Allen, Mr. William Henry    male  35.0      0   \n",
       "\n",
       "   Parch            Ticket     Fare Cabin Embarked  \n",
       "0      0         A/5 21171   7.2500   NaN        S  \n",
       "1      0          PC 17599  71.2833   C85        C  \n",
       "2      0  STON/O2. 3101282   7.9250   NaN        S  \n",
       "3      0            113803  53.1000  C123        S  \n",
       "4      0            373450   8.0500   NaN        S  "
      ]
     },
     "execution_count": 68,
     "metadata": {},
     "output_type": "execute_result"
    }
   ],
   "source": [
    "titanic.head()"
   ]
  },
  {
   "cell_type": "code",
   "execution_count": 69,
   "metadata": {},
   "outputs": [
    {
     "name": "stdout",
     "output_type": "stream",
     "text": [
      "<class 'pandas.core.frame.DataFrame'>\n",
      "RangeIndex: 891 entries, 0 to 890\n",
      "Data columns (total 12 columns):\n",
      "PassengerId    891 non-null int64\n",
      "Survived       891 non-null int64\n",
      "Pclass         891 non-null int64\n",
      "Name           891 non-null object\n",
      "Sex            891 non-null object\n",
      "Age            714 non-null float64\n",
      "SibSp          891 non-null int64\n",
      "Parch          891 non-null int64\n",
      "Ticket         891 non-null object\n",
      "Fare           891 non-null float64\n",
      "Cabin          204 non-null object\n",
      "Embarked       889 non-null object\n",
      "dtypes: float64(2), int64(5), object(5)\n",
      "memory usage: 83.6+ KB\n"
     ]
    }
   ],
   "source": [
    "titanic.info()"
   ]
  },
  {
   "cell_type": "code",
   "execution_count": 70,
   "metadata": {},
   "outputs": [
    {
     "data": {
      "text/plain": [
       "3    491\n",
       "1    216\n",
       "2    184\n",
       "Name: Pclass, dtype: int64"
      ]
     },
     "execution_count": 70,
     "metadata": {},
     "output_type": "execute_result"
    }
   ],
   "source": [
    "titanic.Pclass.value_counts()"
   ]
  },
  {
   "cell_type": "code",
   "execution_count": 71,
   "metadata": {},
   "outputs": [
    {
     "data": {
      "text/plain": [
       "0    608\n",
       "1    209\n",
       "2     28\n",
       "4     18\n",
       "3     16\n",
       "8      7\n",
       "5      5\n",
       "Name: SibSp, dtype: int64"
      ]
     },
     "execution_count": 71,
     "metadata": {},
     "output_type": "execute_result"
    }
   ],
   "source": [
    "titanic.SibSp.value_counts()"
   ]
  },
  {
   "cell_type": "code",
   "execution_count": 72,
   "metadata": {},
   "outputs": [
    {
     "data": {
      "text/html": [
       "<div>\n",
       "<style>\n",
       "    .dataframe thead tr:only-child th {\n",
       "        text-align: right;\n",
       "    }\n",
       "\n",
       "    .dataframe thead th {\n",
       "        text-align: left;\n",
       "    }\n",
       "\n",
       "    .dataframe tbody tr th {\n",
       "        vertical-align: top;\n",
       "    }\n",
       "</style>\n",
       "<table border=\"1\" class=\"dataframe\">\n",
       "  <thead>\n",
       "    <tr style=\"text-align: right;\">\n",
       "      <th></th>\n",
       "      <th>Sex</th>\n",
       "      <th>Pclass</th>\n",
       "    </tr>\n",
       "  </thead>\n",
       "  <tbody>\n",
       "    <tr>\n",
       "      <th>0</th>\n",
       "      <td>male</td>\n",
       "      <td>3</td>\n",
       "    </tr>\n",
       "    <tr>\n",
       "      <th>1</th>\n",
       "      <td>female</td>\n",
       "      <td>1</td>\n",
       "    </tr>\n",
       "    <tr>\n",
       "      <th>2</th>\n",
       "      <td>female</td>\n",
       "      <td>3</td>\n",
       "    </tr>\n",
       "    <tr>\n",
       "      <th>3</th>\n",
       "      <td>female</td>\n",
       "      <td>1</td>\n",
       "    </tr>\n",
       "    <tr>\n",
       "      <th>4</th>\n",
       "      <td>male</td>\n",
       "      <td>3</td>\n",
       "    </tr>\n",
       "  </tbody>\n",
       "</table>\n",
       "</div>"
      ],
      "text/plain": [
       "      Sex  Pclass\n",
       "0    male       3\n",
       "1  female       1\n",
       "2  female       3\n",
       "3  female       1\n",
       "4    male       3"
      ]
     },
     "execution_count": 72,
     "metadata": {},
     "output_type": "execute_result"
    }
   ],
   "source": [
    "titanic_subset = titanic[['Sex', 'Pclass']].copy()\n",
    "titanic_subset.head()"
   ]
  },
  {
   "cell_type": "code",
   "execution_count": 73,
   "metadata": {},
   "outputs": [
    {
     "data": {
      "text/html": [
       "<div>\n",
       "<style>\n",
       "    .dataframe thead tr:only-child th {\n",
       "        text-align: right;\n",
       "    }\n",
       "\n",
       "    .dataframe thead th {\n",
       "        text-align: left;\n",
       "    }\n",
       "\n",
       "    .dataframe tbody tr th {\n",
       "        vertical-align: top;\n",
       "    }\n",
       "</style>\n",
       "<table border=\"1\" class=\"dataframe\">\n",
       "  <thead>\n",
       "    <tr style=\"text-align: right;\">\n",
       "      <th></th>\n",
       "      <th>Pclass</th>\n",
       "      <th>Sex_female</th>\n",
       "      <th>Sex_male</th>\n",
       "    </tr>\n",
       "  </thead>\n",
       "  <tbody>\n",
       "    <tr>\n",
       "      <th>0</th>\n",
       "      <td>3</td>\n",
       "      <td>0</td>\n",
       "      <td>1</td>\n",
       "    </tr>\n",
       "    <tr>\n",
       "      <th>1</th>\n",
       "      <td>1</td>\n",
       "      <td>1</td>\n",
       "      <td>0</td>\n",
       "    </tr>\n",
       "    <tr>\n",
       "      <th>2</th>\n",
       "      <td>3</td>\n",
       "      <td>1</td>\n",
       "      <td>0</td>\n",
       "    </tr>\n",
       "    <tr>\n",
       "      <th>3</th>\n",
       "      <td>1</td>\n",
       "      <td>1</td>\n",
       "      <td>0</td>\n",
       "    </tr>\n",
       "    <tr>\n",
       "      <th>4</th>\n",
       "      <td>3</td>\n",
       "      <td>0</td>\n",
       "      <td>1</td>\n",
       "    </tr>\n",
       "  </tbody>\n",
       "</table>\n",
       "</div>"
      ],
      "text/plain": [
       "   Pclass  Sex_female  Sex_male\n",
       "0       3           0         1\n",
       "1       1           1         0\n",
       "2       3           1         0\n",
       "3       1           1         0\n",
       "4       3           0         1"
      ]
     },
     "execution_count": 73,
     "metadata": {},
     "output_type": "execute_result"
    }
   ],
   "source": [
    "pd.get_dummies(titanic_subset).head()"
   ]
  },
  {
   "cell_type": "code",
   "execution_count": 74,
   "metadata": {},
   "outputs": [
    {
     "name": "stdout",
     "output_type": "stream",
     "text": [
      "[ 0.81111111  0.78888889  0.7752809   0.84269663  0.79775281  0.7752809\n",
      "  0.76404494  0.74157303  0.80898876  0.76136364]\n"
     ]
    },
    {
     "data": {
      "text/plain": [
       "0.7866981613891727"
      ]
     },
     "execution_count": 74,
     "metadata": {},
     "output_type": "execute_result"
    }
   ],
   "source": [
    "X = pd.get_dummies(titanic_subset).values\n",
    "lr = LogisticRegression()\n",
    "scores = cross_val_score(lr, X, y, cv=10)\n",
    "print(scores)\n",
    "scores.mean()"
   ]
  },
  {
   "cell_type": "code",
   "execution_count": 75,
   "metadata": {
    "collapsed": true
   },
   "outputs": [],
   "source": [
    "titanic_subset['Pclass'] = titanic_subset.Pclass.astype('category')"
   ]
  },
  {
   "cell_type": "code",
   "execution_count": 76,
   "metadata": {},
   "outputs": [
    {
     "name": "stdout",
     "output_type": "stream",
     "text": [
      "<class 'pandas.core.frame.DataFrame'>\n",
      "RangeIndex: 891 entries, 0 to 890\n",
      "Data columns (total 2 columns):\n",
      "Sex       891 non-null object\n",
      "Pclass    891 non-null category\n",
      "dtypes: category(1), object(1)\n",
      "memory usage: 8.0+ KB\n"
     ]
    }
   ],
   "source": [
    "titanic_subset.info()"
   ]
  },
  {
   "cell_type": "code",
   "execution_count": 77,
   "metadata": {},
   "outputs": [
    {
     "data": {
      "text/html": [
       "<div>\n",
       "<style>\n",
       "    .dataframe thead tr:only-child th {\n",
       "        text-align: right;\n",
       "    }\n",
       "\n",
       "    .dataframe thead th {\n",
       "        text-align: left;\n",
       "    }\n",
       "\n",
       "    .dataframe tbody tr th {\n",
       "        vertical-align: top;\n",
       "    }\n",
       "</style>\n",
       "<table border=\"1\" class=\"dataframe\">\n",
       "  <thead>\n",
       "    <tr style=\"text-align: right;\">\n",
       "      <th></th>\n",
       "      <th>Sex_female</th>\n",
       "      <th>Sex_male</th>\n",
       "      <th>Pclass_1</th>\n",
       "      <th>Pclass_2</th>\n",
       "      <th>Pclass_3</th>\n",
       "    </tr>\n",
       "  </thead>\n",
       "  <tbody>\n",
       "    <tr>\n",
       "      <th>0</th>\n",
       "      <td>0</td>\n",
       "      <td>1</td>\n",
       "      <td>0</td>\n",
       "      <td>0</td>\n",
       "      <td>1</td>\n",
       "    </tr>\n",
       "    <tr>\n",
       "      <th>1</th>\n",
       "      <td>1</td>\n",
       "      <td>0</td>\n",
       "      <td>1</td>\n",
       "      <td>0</td>\n",
       "      <td>0</td>\n",
       "    </tr>\n",
       "    <tr>\n",
       "      <th>2</th>\n",
       "      <td>1</td>\n",
       "      <td>0</td>\n",
       "      <td>0</td>\n",
       "      <td>0</td>\n",
       "      <td>1</td>\n",
       "    </tr>\n",
       "    <tr>\n",
       "      <th>3</th>\n",
       "      <td>1</td>\n",
       "      <td>0</td>\n",
       "      <td>1</td>\n",
       "      <td>0</td>\n",
       "      <td>0</td>\n",
       "    </tr>\n",
       "    <tr>\n",
       "      <th>4</th>\n",
       "      <td>0</td>\n",
       "      <td>1</td>\n",
       "      <td>0</td>\n",
       "      <td>0</td>\n",
       "      <td>1</td>\n",
       "    </tr>\n",
       "  </tbody>\n",
       "</table>\n",
       "</div>"
      ],
      "text/plain": [
       "   Sex_female  Sex_male  Pclass_1  Pclass_2  Pclass_3\n",
       "0           0         1         0         0         1\n",
       "1           1         0         1         0         0\n",
       "2           1         0         0         0         1\n",
       "3           1         0         1         0         0\n",
       "4           0         1         0         0         1"
      ]
     },
     "execution_count": 77,
     "metadata": {},
     "output_type": "execute_result"
    }
   ],
   "source": [
    "pd.get_dummies(titanic_subset).head()"
   ]
  },
  {
   "cell_type": "code",
   "execution_count": 78,
   "metadata": {},
   "outputs": [
    {
     "name": "stdout",
     "output_type": "stream",
     "text": [
      "[ 0.81111111  0.78888889  0.7752809   0.84269663  0.79775281  0.7752809\n",
      "  0.76404494  0.74157303  0.80898876  0.76136364]\n"
     ]
    },
    {
     "data": {
      "text/plain": [
       "0.7866981613891727"
      ]
     },
     "execution_count": 78,
     "metadata": {},
     "output_type": "execute_result"
    }
   ],
   "source": [
    "X = pd.get_dummies(titanic_subset).values\n",
    "lr = LogisticRegression()\n",
    "scores = cross_val_score(lr, X, y, cv=10)\n",
    "print(scores)\n",
    "scores.mean()"
   ]
  },
  {
   "cell_type": "code",
   "execution_count": 79,
   "metadata": {},
   "outputs": [
    {
     "data": {
      "text/html": [
       "<div>\n",
       "<style>\n",
       "    .dataframe thead tr:only-child th {\n",
       "        text-align: right;\n",
       "    }\n",
       "\n",
       "    .dataframe thead th {\n",
       "        text-align: left;\n",
       "    }\n",
       "\n",
       "    .dataframe tbody tr th {\n",
       "        vertical-align: top;\n",
       "    }\n",
       "</style>\n",
       "<table border=\"1\" class=\"dataframe\">\n",
       "  <thead>\n",
       "    <tr style=\"text-align: right;\">\n",
       "      <th></th>\n",
       "      <th>Sex</th>\n",
       "      <th>Pclass</th>\n",
       "      <th>Age</th>\n",
       "    </tr>\n",
       "  </thead>\n",
       "  <tbody>\n",
       "    <tr>\n",
       "      <th>0</th>\n",
       "      <td>male</td>\n",
       "      <td>3</td>\n",
       "      <td>(16.336, 32.252]</td>\n",
       "    </tr>\n",
       "    <tr>\n",
       "      <th>1</th>\n",
       "      <td>female</td>\n",
       "      <td>1</td>\n",
       "      <td>(32.252, 48.168]</td>\n",
       "    </tr>\n",
       "    <tr>\n",
       "      <th>2</th>\n",
       "      <td>female</td>\n",
       "      <td>3</td>\n",
       "      <td>(16.336, 32.252]</td>\n",
       "    </tr>\n",
       "    <tr>\n",
       "      <th>3</th>\n",
       "      <td>female</td>\n",
       "      <td>1</td>\n",
       "      <td>(32.252, 48.168]</td>\n",
       "    </tr>\n",
       "    <tr>\n",
       "      <th>4</th>\n",
       "      <td>male</td>\n",
       "      <td>3</td>\n",
       "      <td>(32.252, 48.168]</td>\n",
       "    </tr>\n",
       "  </tbody>\n",
       "</table>\n",
       "</div>"
      ],
      "text/plain": [
       "      Sex Pclass               Age\n",
       "0    male      3  (16.336, 32.252]\n",
       "1  female      1  (32.252, 48.168]\n",
       "2  female      3  (16.336, 32.252]\n",
       "3  female      1  (32.252, 48.168]\n",
       "4    male      3  (32.252, 48.168]"
      ]
     },
     "execution_count": 79,
     "metadata": {},
     "output_type": "execute_result"
    }
   ],
   "source": [
    "titanic_subset = titanic[['Sex', 'Pclass', 'Age']].copy()\n",
    "titanic_subset['Pclass'] = titanic_subset.Pclass.astype('category')\n",
    "titanic_subset['Age'] = pd.cut(titanic_subset['Age'], 5)\n",
    "titanic_subset.head()"
   ]
  },
  {
   "cell_type": "code",
   "execution_count": 80,
   "metadata": {},
   "outputs": [
    {
     "data": {
      "text/plain": [
       "177"
      ]
     },
     "execution_count": 80,
     "metadata": {},
     "output_type": "execute_result"
    }
   ],
   "source": [
    "titanic_subset.Age.isnull().sum()"
   ]
  },
  {
   "cell_type": "code",
   "execution_count": 81,
   "metadata": {
    "collapsed": true
   },
   "outputs": [],
   "source": [
    "most_common = titanic_subset.Age.value_counts().index[0]\n",
    "titanic_subset['Age'] = titanic_subset['Age'].fillna(most_common)"
   ]
  },
  {
   "cell_type": "code",
   "execution_count": 82,
   "metadata": {},
   "outputs": [
    {
     "data": {
      "text/html": [
       "<div>\n",
       "<style>\n",
       "    .dataframe thead tr:only-child th {\n",
       "        text-align: right;\n",
       "    }\n",
       "\n",
       "    .dataframe thead th {\n",
       "        text-align: left;\n",
       "    }\n",
       "\n",
       "    .dataframe tbody tr th {\n",
       "        vertical-align: top;\n",
       "    }\n",
       "</style>\n",
       "<table border=\"1\" class=\"dataframe\">\n",
       "  <thead>\n",
       "    <tr style=\"text-align: right;\">\n",
       "      <th></th>\n",
       "      <th>Sex_female</th>\n",
       "      <th>Sex_male</th>\n",
       "      <th>Pclass_1</th>\n",
       "      <th>Pclass_2</th>\n",
       "      <th>Pclass_3</th>\n",
       "      <th>Age_(0.34, 16.336]</th>\n",
       "      <th>Age_(16.336, 32.252]</th>\n",
       "      <th>Age_(32.252, 48.168]</th>\n",
       "      <th>Age_(48.168, 64.084]</th>\n",
       "      <th>Age_(64.084, 80.0]</th>\n",
       "    </tr>\n",
       "  </thead>\n",
       "  <tbody>\n",
       "    <tr>\n",
       "      <th>0</th>\n",
       "      <td>0</td>\n",
       "      <td>1</td>\n",
       "      <td>0</td>\n",
       "      <td>0</td>\n",
       "      <td>1</td>\n",
       "      <td>0</td>\n",
       "      <td>1</td>\n",
       "      <td>0</td>\n",
       "      <td>0</td>\n",
       "      <td>0</td>\n",
       "    </tr>\n",
       "    <tr>\n",
       "      <th>1</th>\n",
       "      <td>1</td>\n",
       "      <td>0</td>\n",
       "      <td>1</td>\n",
       "      <td>0</td>\n",
       "      <td>0</td>\n",
       "      <td>0</td>\n",
       "      <td>0</td>\n",
       "      <td>1</td>\n",
       "      <td>0</td>\n",
       "      <td>0</td>\n",
       "    </tr>\n",
       "    <tr>\n",
       "      <th>2</th>\n",
       "      <td>1</td>\n",
       "      <td>0</td>\n",
       "      <td>0</td>\n",
       "      <td>0</td>\n",
       "      <td>1</td>\n",
       "      <td>0</td>\n",
       "      <td>1</td>\n",
       "      <td>0</td>\n",
       "      <td>0</td>\n",
       "      <td>0</td>\n",
       "    </tr>\n",
       "    <tr>\n",
       "      <th>3</th>\n",
       "      <td>1</td>\n",
       "      <td>0</td>\n",
       "      <td>1</td>\n",
       "      <td>0</td>\n",
       "      <td>0</td>\n",
       "      <td>0</td>\n",
       "      <td>0</td>\n",
       "      <td>1</td>\n",
       "      <td>0</td>\n",
       "      <td>0</td>\n",
       "    </tr>\n",
       "    <tr>\n",
       "      <th>4</th>\n",
       "      <td>0</td>\n",
       "      <td>1</td>\n",
       "      <td>0</td>\n",
       "      <td>0</td>\n",
       "      <td>1</td>\n",
       "      <td>0</td>\n",
       "      <td>0</td>\n",
       "      <td>1</td>\n",
       "      <td>0</td>\n",
       "      <td>0</td>\n",
       "    </tr>\n",
       "  </tbody>\n",
       "</table>\n",
       "</div>"
      ],
      "text/plain": [
       "   Sex_female  Sex_male  Pclass_1  Pclass_2  Pclass_3  Age_(0.34, 16.336]  \\\n",
       "0           0         1         0         0         1                   0   \n",
       "1           1         0         1         0         0                   0   \n",
       "2           1         0         0         0         1                   0   \n",
       "3           1         0         1         0         0                   0   \n",
       "4           0         1         0         0         1                   0   \n",
       "\n",
       "   Age_(16.336, 32.252]  Age_(32.252, 48.168]  Age_(48.168, 64.084]  \\\n",
       "0                     1                     0                     0   \n",
       "1                     0                     1                     0   \n",
       "2                     1                     0                     0   \n",
       "3                     0                     1                     0   \n",
       "4                     0                     1                     0   \n",
       "\n",
       "   Age_(64.084, 80.0]  \n",
       "0                   0  \n",
       "1                   0  \n",
       "2                   0  \n",
       "3                   0  \n",
       "4                   0  "
      ]
     },
     "execution_count": 82,
     "metadata": {},
     "output_type": "execute_result"
    }
   ],
   "source": [
    "pd.get_dummies(titanic_subset).head()"
   ]
  },
  {
   "cell_type": "code",
   "execution_count": 83,
   "metadata": {},
   "outputs": [
    {
     "name": "stdout",
     "output_type": "stream",
     "text": [
      "[ 0.81111111  0.8         0.76404494  0.85393258  0.80898876  0.78651685\n",
      "  0.76404494  0.74157303  0.82022472  0.77272727]\n"
     ]
    },
    {
     "data": {
      "text/plain": [
       "0.79231642265350122"
      ]
     },
     "execution_count": 83,
     "metadata": {},
     "output_type": "execute_result"
    }
   ],
   "source": [
    "X = pd.get_dummies(titanic_subset).values\n",
    "lr = LogisticRegression()\n",
    "scores = cross_val_score(lr, X, y, cv=10)\n",
    "print(scores)\n",
    "scores.mean()"
   ]
  },
  {
   "cell_type": "code",
   "execution_count": 84,
   "metadata": {},
   "outputs": [
    {
     "data": {
      "text/html": [
       "<div>\n",
       "<style>\n",
       "    .dataframe thead tr:only-child th {\n",
       "        text-align: right;\n",
       "    }\n",
       "\n",
       "    .dataframe thead th {\n",
       "        text-align: left;\n",
       "    }\n",
       "\n",
       "    .dataframe tbody tr th {\n",
       "        vertical-align: top;\n",
       "    }\n",
       "</style>\n",
       "<table border=\"1\" class=\"dataframe\">\n",
       "  <thead>\n",
       "    <tr style=\"text-align: right;\">\n",
       "      <th></th>\n",
       "      <th>Sex_female</th>\n",
       "      <th>Sex_male</th>\n",
       "      <th>Pclass_1</th>\n",
       "      <th>Pclass_2</th>\n",
       "      <th>Pclass_3</th>\n",
       "      <th>Age_(0.34, 16.336]</th>\n",
       "      <th>Age_(16.336, 32.252]</th>\n",
       "      <th>Age_(32.252, 48.168]</th>\n",
       "      <th>Age_(48.168, 64.084]</th>\n",
       "      <th>Age_(64.084, 80.0]</th>\n",
       "      <th>...</th>\n",
       "      <th>Parch_0</th>\n",
       "      <th>Parch_1</th>\n",
       "      <th>Parch_2</th>\n",
       "      <th>Parch_3</th>\n",
       "      <th>Parch_4</th>\n",
       "      <th>Parch_5</th>\n",
       "      <th>Parch_6</th>\n",
       "      <th>Embarked_C</th>\n",
       "      <th>Embarked_Q</th>\n",
       "      <th>Embarked_S</th>\n",
       "    </tr>\n",
       "  </thead>\n",
       "  <tbody>\n",
       "    <tr>\n",
       "      <th>0</th>\n",
       "      <td>0</td>\n",
       "      <td>1</td>\n",
       "      <td>0</td>\n",
       "      <td>0</td>\n",
       "      <td>1</td>\n",
       "      <td>0</td>\n",
       "      <td>1</td>\n",
       "      <td>0</td>\n",
       "      <td>0</td>\n",
       "      <td>0</td>\n",
       "      <td>...</td>\n",
       "      <td>1</td>\n",
       "      <td>0</td>\n",
       "      <td>0</td>\n",
       "      <td>0</td>\n",
       "      <td>0</td>\n",
       "      <td>0</td>\n",
       "      <td>0</td>\n",
       "      <td>0</td>\n",
       "      <td>0</td>\n",
       "      <td>1</td>\n",
       "    </tr>\n",
       "    <tr>\n",
       "      <th>1</th>\n",
       "      <td>1</td>\n",
       "      <td>0</td>\n",
       "      <td>1</td>\n",
       "      <td>0</td>\n",
       "      <td>0</td>\n",
       "      <td>0</td>\n",
       "      <td>0</td>\n",
       "      <td>1</td>\n",
       "      <td>0</td>\n",
       "      <td>0</td>\n",
       "      <td>...</td>\n",
       "      <td>1</td>\n",
       "      <td>0</td>\n",
       "      <td>0</td>\n",
       "      <td>0</td>\n",
       "      <td>0</td>\n",
       "      <td>0</td>\n",
       "      <td>0</td>\n",
       "      <td>1</td>\n",
       "      <td>0</td>\n",
       "      <td>0</td>\n",
       "    </tr>\n",
       "    <tr>\n",
       "      <th>2</th>\n",
       "      <td>1</td>\n",
       "      <td>0</td>\n",
       "      <td>0</td>\n",
       "      <td>0</td>\n",
       "      <td>1</td>\n",
       "      <td>0</td>\n",
       "      <td>1</td>\n",
       "      <td>0</td>\n",
       "      <td>0</td>\n",
       "      <td>0</td>\n",
       "      <td>...</td>\n",
       "      <td>1</td>\n",
       "      <td>0</td>\n",
       "      <td>0</td>\n",
       "      <td>0</td>\n",
       "      <td>0</td>\n",
       "      <td>0</td>\n",
       "      <td>0</td>\n",
       "      <td>0</td>\n",
       "      <td>0</td>\n",
       "      <td>1</td>\n",
       "    </tr>\n",
       "    <tr>\n",
       "      <th>3</th>\n",
       "      <td>1</td>\n",
       "      <td>0</td>\n",
       "      <td>1</td>\n",
       "      <td>0</td>\n",
       "      <td>0</td>\n",
       "      <td>0</td>\n",
       "      <td>0</td>\n",
       "      <td>1</td>\n",
       "      <td>0</td>\n",
       "      <td>0</td>\n",
       "      <td>...</td>\n",
       "      <td>1</td>\n",
       "      <td>0</td>\n",
       "      <td>0</td>\n",
       "      <td>0</td>\n",
       "      <td>0</td>\n",
       "      <td>0</td>\n",
       "      <td>0</td>\n",
       "      <td>0</td>\n",
       "      <td>0</td>\n",
       "      <td>1</td>\n",
       "    </tr>\n",
       "    <tr>\n",
       "      <th>4</th>\n",
       "      <td>0</td>\n",
       "      <td>1</td>\n",
       "      <td>0</td>\n",
       "      <td>0</td>\n",
       "      <td>1</td>\n",
       "      <td>0</td>\n",
       "      <td>0</td>\n",
       "      <td>1</td>\n",
       "      <td>0</td>\n",
       "      <td>0</td>\n",
       "      <td>...</td>\n",
       "      <td>1</td>\n",
       "      <td>0</td>\n",
       "      <td>0</td>\n",
       "      <td>0</td>\n",
       "      <td>0</td>\n",
       "      <td>0</td>\n",
       "      <td>0</td>\n",
       "      <td>0</td>\n",
       "      <td>0</td>\n",
       "      <td>1</td>\n",
       "    </tr>\n",
       "  </tbody>\n",
       "</table>\n",
       "<p>5 rows × 27 columns</p>\n",
       "</div>"
      ],
      "text/plain": [
       "   Sex_female  Sex_male  Pclass_1  Pclass_2  Pclass_3  Age_(0.34, 16.336]  \\\n",
       "0           0         1         0         0         1                   0   \n",
       "1           1         0         1         0         0                   0   \n",
       "2           1         0         0         0         1                   0   \n",
       "3           1         0         1         0         0                   0   \n",
       "4           0         1         0         0         1                   0   \n",
       "\n",
       "   Age_(16.336, 32.252]  Age_(32.252, 48.168]  Age_(48.168, 64.084]  \\\n",
       "0                     1                     0                     0   \n",
       "1                     0                     1                     0   \n",
       "2                     1                     0                     0   \n",
       "3                     0                     1                     0   \n",
       "4                     0                     1                     0   \n",
       "\n",
       "   Age_(64.084, 80.0]     ...      Parch_0  Parch_1  Parch_2  Parch_3  \\\n",
       "0                   0     ...            1        0        0        0   \n",
       "1                   0     ...            1        0        0        0   \n",
       "2                   0     ...            1        0        0        0   \n",
       "3                   0     ...            1        0        0        0   \n",
       "4                   0     ...            1        0        0        0   \n",
       "\n",
       "   Parch_4  Parch_5  Parch_6  Embarked_C  Embarked_Q  Embarked_S  \n",
       "0        0        0        0           0           0           1  \n",
       "1        0        0        0           1           0           0  \n",
       "2        0        0        0           0           0           1  \n",
       "3        0        0        0           0           0           1  \n",
       "4        0        0        0           0           0           1  \n",
       "\n",
       "[5 rows x 27 columns]"
      ]
     },
     "execution_count": 84,
     "metadata": {},
     "output_type": "execute_result"
    }
   ],
   "source": [
    "titanic_subset = titanic[['Sex', 'Pclass', 'Age', 'SibSp','Parch', 'Embarked']].copy()\n",
    "titanic_subset['Pclass'] = titanic_subset.Pclass.astype('category')\n",
    "titanic_subset['SibSp'] = titanic_subset.SibSp.astype('category')\n",
    "titanic_subset['Parch'] = titanic_subset.Parch.astype('category')\n",
    "\n",
    "titanic_subset['Age'] = pd.cut(titanic_subset['Age'], 5)\n",
    "\n",
    "most_common_age = titanic_subset.Age.value_counts().index[0]\n",
    "titanic_subset['Age'] = titanic_subset['Age'].fillna(most_common_age)\n",
    "\n",
    "most_common_emb = titanic_subset.Embarked.value_counts().index[0]\n",
    "titanic_subset['Embarked'] = titanic_subset['Embarked'].fillna(most_common_emb)\n",
    "\n",
    "pd.get_dummies(titanic_subset).head()"
   ]
  },
  {
   "cell_type": "code",
   "execution_count": 85,
   "metadata": {},
   "outputs": [
    {
     "name": "stdout",
     "output_type": "stream",
     "text": [
      "[ 0.75555556  0.77777778  0.78651685  0.82022472  0.80898876  0.79775281\n",
      "  0.79775281  0.7752809   0.79775281  0.81818182]\n"
     ]
    },
    {
     "data": {
      "text/plain": [
       "0.79357848144364995"
      ]
     },
     "execution_count": 85,
     "metadata": {},
     "output_type": "execute_result"
    }
   ],
   "source": [
    "# nothing is making our predictions go up\n",
    "X = pd.get_dummies(titanic_subset).values\n",
    "lr = LogisticRegression()\n",
    "scores = cross_val_score(lr, X, y, cv=10)\n",
    "print(scores)\n",
    "scores.mean()"
   ]
  },
  {
   "cell_type": "markdown",
   "metadata": {},
   "source": [
    "### Feature Engineering"
   ]
  },
  {
   "cell_type": "code",
   "execution_count": 86,
   "metadata": {},
   "outputs": [
    {
     "data": {
      "text/plain": [
       "missing    687\n",
       "C           59\n",
       "B           47\n",
       "D           33\n",
       "E           32\n",
       "A           15\n",
       "F           13\n",
       "G            4\n",
       "T            1\n",
       "Name: Cabin_first, dtype: int64"
      ]
     },
     "execution_count": 86,
     "metadata": {},
     "output_type": "execute_result"
    }
   ],
   "source": [
    "titanic['Cabin_first'] = titanic.Cabin.str[0].fillna('missing')\n",
    "titanic['Cabin_first'].value_counts()"
   ]
  },
  {
   "cell_type": "code",
   "execution_count": 87,
   "metadata": {},
   "outputs": [
    {
     "data": {
      "text/html": [
       "<div>\n",
       "<style>\n",
       "    .dataframe thead tr:only-child th {\n",
       "        text-align: right;\n",
       "    }\n",
       "\n",
       "    .dataframe thead th {\n",
       "        text-align: left;\n",
       "    }\n",
       "\n",
       "    .dataframe tbody tr th {\n",
       "        vertical-align: top;\n",
       "    }\n",
       "</style>\n",
       "<table border=\"1\" class=\"dataframe\">\n",
       "  <thead>\n",
       "    <tr style=\"text-align: right;\">\n",
       "      <th></th>\n",
       "      <th>Sex_female</th>\n",
       "      <th>Sex_male</th>\n",
       "      <th>Pclass_1</th>\n",
       "      <th>Pclass_2</th>\n",
       "      <th>Pclass_3</th>\n",
       "      <th>Age_(0.34, 16.336]</th>\n",
       "      <th>Age_(16.336, 32.252]</th>\n",
       "      <th>Age_(32.252, 48.168]</th>\n",
       "      <th>Age_(48.168, 64.084]</th>\n",
       "      <th>Age_(64.084, 80.0]</th>\n",
       "      <th>...</th>\n",
       "      <th>Embarked_S</th>\n",
       "      <th>Cabin_first_A</th>\n",
       "      <th>Cabin_first_B</th>\n",
       "      <th>Cabin_first_C</th>\n",
       "      <th>Cabin_first_D</th>\n",
       "      <th>Cabin_first_E</th>\n",
       "      <th>Cabin_first_F</th>\n",
       "      <th>Cabin_first_G</th>\n",
       "      <th>Cabin_first_T</th>\n",
       "      <th>Cabin_first_missing</th>\n",
       "    </tr>\n",
       "  </thead>\n",
       "  <tbody>\n",
       "    <tr>\n",
       "      <th>0</th>\n",
       "      <td>0</td>\n",
       "      <td>1</td>\n",
       "      <td>0</td>\n",
       "      <td>0</td>\n",
       "      <td>1</td>\n",
       "      <td>0</td>\n",
       "      <td>1</td>\n",
       "      <td>0</td>\n",
       "      <td>0</td>\n",
       "      <td>0</td>\n",
       "      <td>...</td>\n",
       "      <td>1</td>\n",
       "      <td>0</td>\n",
       "      <td>0</td>\n",
       "      <td>0</td>\n",
       "      <td>0</td>\n",
       "      <td>0</td>\n",
       "      <td>0</td>\n",
       "      <td>0</td>\n",
       "      <td>0</td>\n",
       "      <td>1</td>\n",
       "    </tr>\n",
       "    <tr>\n",
       "      <th>1</th>\n",
       "      <td>1</td>\n",
       "      <td>0</td>\n",
       "      <td>1</td>\n",
       "      <td>0</td>\n",
       "      <td>0</td>\n",
       "      <td>0</td>\n",
       "      <td>0</td>\n",
       "      <td>1</td>\n",
       "      <td>0</td>\n",
       "      <td>0</td>\n",
       "      <td>...</td>\n",
       "      <td>0</td>\n",
       "      <td>0</td>\n",
       "      <td>0</td>\n",
       "      <td>1</td>\n",
       "      <td>0</td>\n",
       "      <td>0</td>\n",
       "      <td>0</td>\n",
       "      <td>0</td>\n",
       "      <td>0</td>\n",
       "      <td>0</td>\n",
       "    </tr>\n",
       "    <tr>\n",
       "      <th>2</th>\n",
       "      <td>1</td>\n",
       "      <td>0</td>\n",
       "      <td>0</td>\n",
       "      <td>0</td>\n",
       "      <td>1</td>\n",
       "      <td>0</td>\n",
       "      <td>1</td>\n",
       "      <td>0</td>\n",
       "      <td>0</td>\n",
       "      <td>0</td>\n",
       "      <td>...</td>\n",
       "      <td>1</td>\n",
       "      <td>0</td>\n",
       "      <td>0</td>\n",
       "      <td>0</td>\n",
       "      <td>0</td>\n",
       "      <td>0</td>\n",
       "      <td>0</td>\n",
       "      <td>0</td>\n",
       "      <td>0</td>\n",
       "      <td>1</td>\n",
       "    </tr>\n",
       "    <tr>\n",
       "      <th>3</th>\n",
       "      <td>1</td>\n",
       "      <td>0</td>\n",
       "      <td>1</td>\n",
       "      <td>0</td>\n",
       "      <td>0</td>\n",
       "      <td>0</td>\n",
       "      <td>0</td>\n",
       "      <td>1</td>\n",
       "      <td>0</td>\n",
       "      <td>0</td>\n",
       "      <td>...</td>\n",
       "      <td>1</td>\n",
       "      <td>0</td>\n",
       "      <td>0</td>\n",
       "      <td>1</td>\n",
       "      <td>0</td>\n",
       "      <td>0</td>\n",
       "      <td>0</td>\n",
       "      <td>0</td>\n",
       "      <td>0</td>\n",
       "      <td>0</td>\n",
       "    </tr>\n",
       "    <tr>\n",
       "      <th>4</th>\n",
       "      <td>0</td>\n",
       "      <td>1</td>\n",
       "      <td>0</td>\n",
       "      <td>0</td>\n",
       "      <td>1</td>\n",
       "      <td>0</td>\n",
       "      <td>0</td>\n",
       "      <td>1</td>\n",
       "      <td>0</td>\n",
       "      <td>0</td>\n",
       "      <td>...</td>\n",
       "      <td>1</td>\n",
       "      <td>0</td>\n",
       "      <td>0</td>\n",
       "      <td>0</td>\n",
       "      <td>0</td>\n",
       "      <td>0</td>\n",
       "      <td>0</td>\n",
       "      <td>0</td>\n",
       "      <td>0</td>\n",
       "      <td>1</td>\n",
       "    </tr>\n",
       "  </tbody>\n",
       "</table>\n",
       "<p>5 rows × 36 columns</p>\n",
       "</div>"
      ],
      "text/plain": [
       "   Sex_female  Sex_male  Pclass_1  Pclass_2  Pclass_3  Age_(0.34, 16.336]  \\\n",
       "0           0         1         0         0         1                   0   \n",
       "1           1         0         1         0         0                   0   \n",
       "2           1         0         0         0         1                   0   \n",
       "3           1         0         1         0         0                   0   \n",
       "4           0         1         0         0         1                   0   \n",
       "\n",
       "   Age_(16.336, 32.252]  Age_(32.252, 48.168]  Age_(48.168, 64.084]  \\\n",
       "0                     1                     0                     0   \n",
       "1                     0                     1                     0   \n",
       "2                     1                     0                     0   \n",
       "3                     0                     1                     0   \n",
       "4                     0                     1                     0   \n",
       "\n",
       "   Age_(64.084, 80.0]         ...           Embarked_S  Cabin_first_A  \\\n",
       "0                   0         ...                    1              0   \n",
       "1                   0         ...                    0              0   \n",
       "2                   0         ...                    1              0   \n",
       "3                   0         ...                    1              0   \n",
       "4                   0         ...                    1              0   \n",
       "\n",
       "   Cabin_first_B  Cabin_first_C  Cabin_first_D  Cabin_first_E  Cabin_first_F  \\\n",
       "0              0              0              0              0              0   \n",
       "1              0              1              0              0              0   \n",
       "2              0              0              0              0              0   \n",
       "3              0              1              0              0              0   \n",
       "4              0              0              0              0              0   \n",
       "\n",
       "   Cabin_first_G  Cabin_first_T  Cabin_first_missing  \n",
       "0              0              0                    1  \n",
       "1              0              0                    0  \n",
       "2              0              0                    1  \n",
       "3              0              0                    0  \n",
       "4              0              0                    1  \n",
       "\n",
       "[5 rows x 36 columns]"
      ]
     },
     "execution_count": 87,
     "metadata": {},
     "output_type": "execute_result"
    }
   ],
   "source": [
    "titanic_subset = titanic[['Sex', 'Pclass', 'Age', 'SibSp','Parch', 'Embarked', 'Cabin_first']].copy()\n",
    "titanic_subset['Pclass'] = titanic_subset.Pclass.astype('category')\n",
    "titanic_subset['SibSp'] = titanic_subset.SibSp.astype('category')\n",
    "titanic_subset['Parch'] = titanic_subset.Parch.astype('category')\n",
    "\n",
    "titanic_subset['Age'] = pd.cut(titanic_subset['Age'], 5)\n",
    "\n",
    "most_common_age = titanic_subset.Age.value_counts().index[0]\n",
    "titanic_subset['Age'] = titanic_subset['Age'].fillna(most_common_age)\n",
    "\n",
    "most_common_emb = titanic_subset.Embarked.value_counts().index[0]\n",
    "titanic_subset['Embarked'] = titanic_subset['Embarked'].fillna(most_common_emb)\n",
    "\n",
    "pd.get_dummies(titanic_subset).head()"
   ]
  },
  {
   "cell_type": "code",
   "execution_count": 88,
   "metadata": {},
   "outputs": [
    {
     "name": "stdout",
     "output_type": "stream",
     "text": [
      "[ 0.75555556  0.8         0.78651685  0.83146067  0.82022472  0.80898876\n",
      "  0.79775281  0.80898876  0.84269663  0.80681818]\n"
     ]
    },
    {
     "data": {
      "text/plain": [
       "0.80590029508568839"
      ]
     },
     "execution_count": 88,
     "metadata": {},
     "output_type": "execute_result"
    }
   ],
   "source": [
    "# A slight improvement\n",
    "X = pd.get_dummies(titanic_subset).values\n",
    "lr = LogisticRegression()\n",
    "scores = cross_val_score(lr, X, y, cv=10)\n",
    "print(scores)\n",
    "scores.mean()"
   ]
  },
  {
   "cell_type": "code",
   "execution_count": 89,
   "metadata": {
    "collapsed": true
   },
   "outputs": [],
   "source": [
    "titanic['Ticket_2'] = titanic.Ticket.str[:2]"
   ]
  },
  {
   "cell_type": "code",
   "execution_count": 90,
   "metadata": {},
   "outputs": [
    {
     "data": {
      "text/html": [
       "<div>\n",
       "<style>\n",
       "    .dataframe thead tr:only-child th {\n",
       "        text-align: right;\n",
       "    }\n",
       "\n",
       "    .dataframe thead th {\n",
       "        text-align: left;\n",
       "    }\n",
       "\n",
       "    .dataframe tbody tr th {\n",
       "        vertical-align: top;\n",
       "    }\n",
       "</style>\n",
       "<table border=\"1\" class=\"dataframe\">\n",
       "  <thead>\n",
       "    <tr style=\"text-align: right;\">\n",
       "      <th></th>\n",
       "      <th>size</th>\n",
       "      <th>mean</th>\n",
       "    </tr>\n",
       "    <tr>\n",
       "      <th>Ticket_2</th>\n",
       "      <th></th>\n",
       "      <th></th>\n",
       "    </tr>\n",
       "  </thead>\n",
       "  <tbody>\n",
       "    <tr>\n",
       "      <th>34</th>\n",
       "      <td>132</td>\n",
       "      <td>0.143939</td>\n",
       "    </tr>\n",
       "    <tr>\n",
       "      <th>11</th>\n",
       "      <td>88</td>\n",
       "      <td>0.568182</td>\n",
       "    </tr>\n",
       "    <tr>\n",
       "      <th>PC</th>\n",
       "      <td>60</td>\n",
       "      <td>0.650000</td>\n",
       "    </tr>\n",
       "    <tr>\n",
       "      <th>26</th>\n",
       "      <td>60</td>\n",
       "      <td>0.416667</td>\n",
       "    </tr>\n",
       "    <tr>\n",
       "      <th>36</th>\n",
       "      <td>46</td>\n",
       "      <td>0.347826</td>\n",
       "    </tr>\n",
       "    <tr>\n",
       "      <th>31</th>\n",
       "      <td>37</td>\n",
       "      <td>0.243243</td>\n",
       "    </tr>\n",
       "    <tr>\n",
       "      <th>23</th>\n",
       "      <td>36</td>\n",
       "      <td>0.444444</td>\n",
       "    </tr>\n",
       "    <tr>\n",
       "      <th>24</th>\n",
       "      <td>29</td>\n",
       "      <td>0.551724</td>\n",
       "    </tr>\n",
       "    <tr>\n",
       "      <th>C.</th>\n",
       "      <td>28</td>\n",
       "      <td>0.464286</td>\n",
       "    </tr>\n",
       "    <tr>\n",
       "      <th>35</th>\n",
       "      <td>27</td>\n",
       "      <td>0.296296</td>\n",
       "    </tr>\n",
       "    <tr>\n",
       "      <th>37</th>\n",
       "      <td>25</td>\n",
       "      <td>0.240000</td>\n",
       "    </tr>\n",
       "    <tr>\n",
       "      <th>A/</th>\n",
       "      <td>24</td>\n",
       "      <td>0.083333</td>\n",
       "    </tr>\n",
       "    <tr>\n",
       "      <th>ST</th>\n",
       "      <td>18</td>\n",
       "      <td>0.444444</td>\n",
       "    </tr>\n",
       "    <tr>\n",
       "      <th>SO</th>\n",
       "      <td>18</td>\n",
       "      <td>0.166667</td>\n",
       "    </tr>\n",
       "    <tr>\n",
       "      <th>19</th>\n",
       "      <td>16</td>\n",
       "      <td>0.687500</td>\n",
       "    </tr>\n",
       "    <tr>\n",
       "      <th>33</th>\n",
       "      <td>16</td>\n",
       "      <td>0.562500</td>\n",
       "    </tr>\n",
       "    <tr>\n",
       "      <th>29</th>\n",
       "      <td>14</td>\n",
       "      <td>0.642857</td>\n",
       "    </tr>\n",
       "    <tr>\n",
       "      <th>CA</th>\n",
       "      <td>14</td>\n",
       "      <td>0.071429</td>\n",
       "    </tr>\n",
       "    <tr>\n",
       "      <th>25</th>\n",
       "      <td>14</td>\n",
       "      <td>0.500000</td>\n",
       "    </tr>\n",
       "    <tr>\n",
       "      <th>S.</th>\n",
       "      <td>14</td>\n",
       "      <td>0.142857</td>\n",
       "    </tr>\n",
       "  </tbody>\n",
       "</table>\n",
       "</div>"
      ],
      "text/plain": [
       "          size      mean\n",
       "Ticket_2                \n",
       "34         132  0.143939\n",
       "11          88  0.568182\n",
       "PC          60  0.650000\n",
       "26          60  0.416667\n",
       "36          46  0.347826\n",
       "31          37  0.243243\n",
       "23          36  0.444444\n",
       "24          29  0.551724\n",
       "C.          28  0.464286\n",
       "35          27  0.296296\n",
       "37          25  0.240000\n",
       "A/          24  0.083333\n",
       "ST          18  0.444444\n",
       "SO          18  0.166667\n",
       "19          16  0.687500\n",
       "33          16  0.562500\n",
       "29          14  0.642857\n",
       "CA          14  0.071429\n",
       "25          14  0.500000\n",
       "S.          14  0.142857"
      ]
     },
     "execution_count": 90,
     "metadata": {},
     "output_type": "execute_result"
    }
   ],
   "source": [
    "titanic.groupby('Ticket_2')['Survived'].agg(['size', 'mean']).sort_values('size', ascending=False).head(20)"
   ]
  },
  {
   "cell_type": "code",
   "execution_count": 91,
   "metadata": {
    "collapsed": true
   },
   "outputs": [],
   "source": [
    "ticket_2vc = titanic['Ticket_2'].value_counts()"
   ]
  },
  {
   "cell_type": "code",
   "execution_count": 92,
   "metadata": {},
   "outputs": [
    {
     "data": {
      "text/html": [
       "<div>\n",
       "<style>\n",
       "    .dataframe thead tr:only-child th {\n",
       "        text-align: right;\n",
       "    }\n",
       "\n",
       "    .dataframe thead th {\n",
       "        text-align: left;\n",
       "    }\n",
       "\n",
       "    .dataframe tbody tr th {\n",
       "        vertical-align: top;\n",
       "    }\n",
       "</style>\n",
       "<table border=\"1\" class=\"dataframe\">\n",
       "  <thead>\n",
       "    <tr style=\"text-align: right;\">\n",
       "      <th></th>\n",
       "      <th>PassengerId</th>\n",
       "      <th>Survived</th>\n",
       "      <th>Pclass</th>\n",
       "      <th>Name</th>\n",
       "      <th>Sex</th>\n",
       "      <th>Age</th>\n",
       "      <th>SibSp</th>\n",
       "      <th>Parch</th>\n",
       "      <th>Ticket</th>\n",
       "      <th>Fare</th>\n",
       "      <th>Cabin</th>\n",
       "      <th>Embarked</th>\n",
       "      <th>Cabin_first</th>\n",
       "      <th>Ticket_2</th>\n",
       "      <th>Ticket_2count</th>\n",
       "    </tr>\n",
       "  </thead>\n",
       "  <tbody>\n",
       "    <tr>\n",
       "      <th>0</th>\n",
       "      <td>1</td>\n",
       "      <td>0</td>\n",
       "      <td>3</td>\n",
       "      <td>Braund, Mr. Owen Harris</td>\n",
       "      <td>male</td>\n",
       "      <td>22.0</td>\n",
       "      <td>1</td>\n",
       "      <td>0</td>\n",
       "      <td>A/5 21171</td>\n",
       "      <td>7.2500</td>\n",
       "      <td>NaN</td>\n",
       "      <td>S</td>\n",
       "      <td>missing</td>\n",
       "      <td>A/</td>\n",
       "      <td>24</td>\n",
       "    </tr>\n",
       "    <tr>\n",
       "      <th>1</th>\n",
       "      <td>2</td>\n",
       "      <td>1</td>\n",
       "      <td>1</td>\n",
       "      <td>Cumings, Mrs. John Bradley (Florence Briggs Th...</td>\n",
       "      <td>female</td>\n",
       "      <td>38.0</td>\n",
       "      <td>1</td>\n",
       "      <td>0</td>\n",
       "      <td>PC 17599</td>\n",
       "      <td>71.2833</td>\n",
       "      <td>C85</td>\n",
       "      <td>C</td>\n",
       "      <td>C</td>\n",
       "      <td>PC</td>\n",
       "      <td>60</td>\n",
       "    </tr>\n",
       "    <tr>\n",
       "      <th>2</th>\n",
       "      <td>3</td>\n",
       "      <td>1</td>\n",
       "      <td>3</td>\n",
       "      <td>Heikkinen, Miss. Laina</td>\n",
       "      <td>female</td>\n",
       "      <td>26.0</td>\n",
       "      <td>0</td>\n",
       "      <td>0</td>\n",
       "      <td>STON/O2. 3101282</td>\n",
       "      <td>7.9250</td>\n",
       "      <td>NaN</td>\n",
       "      <td>S</td>\n",
       "      <td>missing</td>\n",
       "      <td>ST</td>\n",
       "      <td>18</td>\n",
       "    </tr>\n",
       "    <tr>\n",
       "      <th>3</th>\n",
       "      <td>4</td>\n",
       "      <td>1</td>\n",
       "      <td>1</td>\n",
       "      <td>Futrelle, Mrs. Jacques Heath (Lily May Peel)</td>\n",
       "      <td>female</td>\n",
       "      <td>35.0</td>\n",
       "      <td>1</td>\n",
       "      <td>0</td>\n",
       "      <td>113803</td>\n",
       "      <td>53.1000</td>\n",
       "      <td>C123</td>\n",
       "      <td>S</td>\n",
       "      <td>C</td>\n",
       "      <td>11</td>\n",
       "      <td>88</td>\n",
       "    </tr>\n",
       "    <tr>\n",
       "      <th>4</th>\n",
       "      <td>5</td>\n",
       "      <td>0</td>\n",
       "      <td>3</td>\n",
       "      <td>Allen, Mr. William Henry</td>\n",
       "      <td>male</td>\n",
       "      <td>35.0</td>\n",
       "      <td>0</td>\n",
       "      <td>0</td>\n",
       "      <td>373450</td>\n",
       "      <td>8.0500</td>\n",
       "      <td>NaN</td>\n",
       "      <td>S</td>\n",
       "      <td>missing</td>\n",
       "      <td>37</td>\n",
       "      <td>25</td>\n",
       "    </tr>\n",
       "  </tbody>\n",
       "</table>\n",
       "</div>"
      ],
      "text/plain": [
       "   PassengerId  Survived  Pclass  \\\n",
       "0            1         0       3   \n",
       "1            2         1       1   \n",
       "2            3         1       3   \n",
       "3            4         1       1   \n",
       "4            5         0       3   \n",
       "\n",
       "                                                Name     Sex   Age  SibSp  \\\n",
       "0                            Braund, Mr. Owen Harris    male  22.0      1   \n",
       "1  Cumings, Mrs. John Bradley (Florence Briggs Th...  female  38.0      1   \n",
       "2                             Heikkinen, Miss. Laina  female  26.0      0   \n",
       "3       Futrelle, Mrs. Jacques Heath (Lily May Peel)  female  35.0      1   \n",
       "4                           Allen, Mr. William Henry    male  35.0      0   \n",
       "\n",
       "   Parch            Ticket     Fare Cabin Embarked Cabin_first Ticket_2  \\\n",
       "0      0         A/5 21171   7.2500   NaN        S     missing       A/   \n",
       "1      0          PC 17599  71.2833   C85        C           C       PC   \n",
       "2      0  STON/O2. 3101282   7.9250   NaN        S     missing       ST   \n",
       "3      0            113803  53.1000  C123        S           C       11   \n",
       "4      0            373450   8.0500   NaN        S     missing       37   \n",
       "\n",
       "   Ticket_2count  \n",
       "0             24  \n",
       "1             60  \n",
       "2             18  \n",
       "3             88  \n",
       "4             25  "
      ]
     },
     "execution_count": 92,
     "metadata": {},
     "output_type": "execute_result"
    }
   ],
   "source": [
    "titanic = titanic.join(ticket_2vc, on='Ticket_2', rsuffix='count')\n",
    "titanic.head()"
   ]
  },
  {
   "cell_type": "code",
   "execution_count": 93,
   "metadata": {
    "collapsed": true
   },
   "outputs": [],
   "source": [
    "titanic['Ticket_2b'] = np.where(titanic.Ticket_2count > 10, titanic.Ticket_2, 'Other')"
   ]
  },
  {
   "cell_type": "code",
   "execution_count": 94,
   "metadata": {},
   "outputs": [
    {
     "data": {
      "text/html": [
       "<div>\n",
       "<style>\n",
       "    .dataframe thead tr:only-child th {\n",
       "        text-align: right;\n",
       "    }\n",
       "\n",
       "    .dataframe thead th {\n",
       "        text-align: left;\n",
       "    }\n",
       "\n",
       "    .dataframe tbody tr th {\n",
       "        vertical-align: top;\n",
       "    }\n",
       "</style>\n",
       "<table border=\"1\" class=\"dataframe\">\n",
       "  <thead>\n",
       "    <tr style=\"text-align: right;\">\n",
       "      <th></th>\n",
       "      <th>Sex_female</th>\n",
       "      <th>Sex_male</th>\n",
       "      <th>Pclass_1</th>\n",
       "      <th>Pclass_2</th>\n",
       "      <th>Pclass_3</th>\n",
       "      <th>Age_(0.34, 16.336]</th>\n",
       "      <th>Age_(16.336, 32.252]</th>\n",
       "      <th>Age_(32.252, 48.168]</th>\n",
       "      <th>Age_(48.168, 64.084]</th>\n",
       "      <th>Age_(64.084, 80.0]</th>\n",
       "      <th>...</th>\n",
       "      <th>Ticket_2b_37</th>\n",
       "      <th>Ticket_2b_A/</th>\n",
       "      <th>Ticket_2b_C.</th>\n",
       "      <th>Ticket_2b_CA</th>\n",
       "      <th>Ticket_2b_Other</th>\n",
       "      <th>Ticket_2b_PC</th>\n",
       "      <th>Ticket_2b_S.</th>\n",
       "      <th>Ticket_2b_SC</th>\n",
       "      <th>Ticket_2b_SO</th>\n",
       "      <th>Ticket_2b_ST</th>\n",
       "    </tr>\n",
       "  </thead>\n",
       "  <tbody>\n",
       "    <tr>\n",
       "      <th>0</th>\n",
       "      <td>0</td>\n",
       "      <td>1</td>\n",
       "      <td>0</td>\n",
       "      <td>0</td>\n",
       "      <td>1</td>\n",
       "      <td>0</td>\n",
       "      <td>1</td>\n",
       "      <td>0</td>\n",
       "      <td>0</td>\n",
       "      <td>0</td>\n",
       "      <td>...</td>\n",
       "      <td>0</td>\n",
       "      <td>1</td>\n",
       "      <td>0</td>\n",
       "      <td>0</td>\n",
       "      <td>0</td>\n",
       "      <td>0</td>\n",
       "      <td>0</td>\n",
       "      <td>0</td>\n",
       "      <td>0</td>\n",
       "      <td>0</td>\n",
       "    </tr>\n",
       "    <tr>\n",
       "      <th>1</th>\n",
       "      <td>1</td>\n",
       "      <td>0</td>\n",
       "      <td>1</td>\n",
       "      <td>0</td>\n",
       "      <td>0</td>\n",
       "      <td>0</td>\n",
       "      <td>0</td>\n",
       "      <td>1</td>\n",
       "      <td>0</td>\n",
       "      <td>0</td>\n",
       "      <td>...</td>\n",
       "      <td>0</td>\n",
       "      <td>0</td>\n",
       "      <td>0</td>\n",
       "      <td>0</td>\n",
       "      <td>0</td>\n",
       "      <td>1</td>\n",
       "      <td>0</td>\n",
       "      <td>0</td>\n",
       "      <td>0</td>\n",
       "      <td>0</td>\n",
       "    </tr>\n",
       "    <tr>\n",
       "      <th>2</th>\n",
       "      <td>1</td>\n",
       "      <td>0</td>\n",
       "      <td>0</td>\n",
       "      <td>0</td>\n",
       "      <td>1</td>\n",
       "      <td>0</td>\n",
       "      <td>1</td>\n",
       "      <td>0</td>\n",
       "      <td>0</td>\n",
       "      <td>0</td>\n",
       "      <td>...</td>\n",
       "      <td>0</td>\n",
       "      <td>0</td>\n",
       "      <td>0</td>\n",
       "      <td>0</td>\n",
       "      <td>0</td>\n",
       "      <td>0</td>\n",
       "      <td>0</td>\n",
       "      <td>0</td>\n",
       "      <td>0</td>\n",
       "      <td>1</td>\n",
       "    </tr>\n",
       "    <tr>\n",
       "      <th>3</th>\n",
       "      <td>1</td>\n",
       "      <td>0</td>\n",
       "      <td>1</td>\n",
       "      <td>0</td>\n",
       "      <td>0</td>\n",
       "      <td>0</td>\n",
       "      <td>0</td>\n",
       "      <td>1</td>\n",
       "      <td>0</td>\n",
       "      <td>0</td>\n",
       "      <td>...</td>\n",
       "      <td>0</td>\n",
       "      <td>0</td>\n",
       "      <td>0</td>\n",
       "      <td>0</td>\n",
       "      <td>0</td>\n",
       "      <td>0</td>\n",
       "      <td>0</td>\n",
       "      <td>0</td>\n",
       "      <td>0</td>\n",
       "      <td>0</td>\n",
       "    </tr>\n",
       "    <tr>\n",
       "      <th>4</th>\n",
       "      <td>0</td>\n",
       "      <td>1</td>\n",
       "      <td>0</td>\n",
       "      <td>0</td>\n",
       "      <td>1</td>\n",
       "      <td>0</td>\n",
       "      <td>0</td>\n",
       "      <td>1</td>\n",
       "      <td>0</td>\n",
       "      <td>0</td>\n",
       "      <td>...</td>\n",
       "      <td>1</td>\n",
       "      <td>0</td>\n",
       "      <td>0</td>\n",
       "      <td>0</td>\n",
       "      <td>0</td>\n",
       "      <td>0</td>\n",
       "      <td>0</td>\n",
       "      <td>0</td>\n",
       "      <td>0</td>\n",
       "      <td>0</td>\n",
       "    </tr>\n",
       "  </tbody>\n",
       "</table>\n",
       "<p>5 rows × 61 columns</p>\n",
       "</div>"
      ],
      "text/plain": [
       "   Sex_female  Sex_male  Pclass_1  Pclass_2  Pclass_3  Age_(0.34, 16.336]  \\\n",
       "0           0         1         0         0         1                   0   \n",
       "1           1         0         1         0         0                   0   \n",
       "2           1         0         0         0         1                   0   \n",
       "3           1         0         1         0         0                   0   \n",
       "4           0         1         0         0         1                   0   \n",
       "\n",
       "   Age_(16.336, 32.252]  Age_(32.252, 48.168]  Age_(48.168, 64.084]  \\\n",
       "0                     1                     0                     0   \n",
       "1                     0                     1                     0   \n",
       "2                     1                     0                     0   \n",
       "3                     0                     1                     0   \n",
       "4                     0                     1                     0   \n",
       "\n",
       "   Age_(64.084, 80.0]      ...       Ticket_2b_37  Ticket_2b_A/  Ticket_2b_C.  \\\n",
       "0                   0      ...                  0             1             0   \n",
       "1                   0      ...                  0             0             0   \n",
       "2                   0      ...                  0             0             0   \n",
       "3                   0      ...                  0             0             0   \n",
       "4                   0      ...                  1             0             0   \n",
       "\n",
       "   Ticket_2b_CA  Ticket_2b_Other  Ticket_2b_PC  Ticket_2b_S.  Ticket_2b_SC  \\\n",
       "0             0                0             0             0             0   \n",
       "1             0                0             1             0             0   \n",
       "2             0                0             0             0             0   \n",
       "3             0                0             0             0             0   \n",
       "4             0                0             0             0             0   \n",
       "\n",
       "   Ticket_2b_SO  Ticket_2b_ST  \n",
       "0             0             0  \n",
       "1             0             0  \n",
       "2             0             1  \n",
       "3             0             0  \n",
       "4             0             0  \n",
       "\n",
       "[5 rows x 61 columns]"
      ]
     },
     "execution_count": 94,
     "metadata": {},
     "output_type": "execute_result"
    }
   ],
   "source": [
    "titanic_subset = titanic[['Sex', 'Pclass', 'Age', 'SibSp','Parch', 'Embarked', 'Cabin_first', 'Ticket_2b']].copy()\n",
    "titanic_subset['Pclass'] = titanic_subset.Pclass.astype('category')\n",
    "titanic_subset['SibSp'] = titanic_subset.SibSp.astype('category')\n",
    "titanic_subset['Parch'] = titanic_subset.Parch.astype('category')\n",
    "\n",
    "titanic_subset['Age'] = pd.cut(titanic_subset['Age'], 5)\n",
    "\n",
    "most_common_age = titanic_subset.Age.value_counts().index[0]\n",
    "titanic_subset['Age'] = titanic_subset['Age'].fillna(most_common_age)\n",
    "\n",
    "most_common_emb = titanic_subset.Embarked.value_counts().index[0]\n",
    "titanic_subset['Embarked'] = titanic_subset['Embarked'].fillna(most_common_emb)\n",
    "\n",
    "pd.get_dummies(titanic_subset).head()"
   ]
  },
  {
   "cell_type": "code",
   "execution_count": 95,
   "metadata": {},
   "outputs": [
    {
     "name": "stdout",
     "output_type": "stream",
     "text": [
      "[ 0.8         0.8         0.78651685  0.84269663  0.85393258  0.78651685\n",
      "  0.79775281  0.76404494  0.82022472  0.81818182]\n"
     ]
    },
    {
     "data": {
      "text/plain": [
       "0.80698672114402448"
      ]
     },
     "execution_count": 95,
     "metadata": {},
     "output_type": "execute_result"
    }
   ],
   "source": [
    "# A slight improvement\n",
    "X = pd.get_dummies(titanic_subset).values\n",
    "lr = LogisticRegression()\n",
    "scores = cross_val_score(lr, X, y, cv=10)\n",
    "print(scores)\n",
    "scores.mean()"
   ]
  },
  {
   "cell_type": "code",
   "execution_count": 96,
   "metadata": {
    "collapsed": true
   },
   "outputs": [],
   "source": [
    "# length of name\n",
    "titanic['name_length'] = titanic.Name.str.len()"
   ]
  },
  {
   "cell_type": "code",
   "execution_count": 97,
   "metadata": {},
   "outputs": [
    {
     "data": {
      "text/html": [
       "<div>\n",
       "<style>\n",
       "    .dataframe thead tr:only-child th {\n",
       "        text-align: right;\n",
       "    }\n",
       "\n",
       "    .dataframe thead th {\n",
       "        text-align: left;\n",
       "    }\n",
       "\n",
       "    .dataframe tbody tr th {\n",
       "        vertical-align: top;\n",
       "    }\n",
       "</style>\n",
       "<table border=\"1\" class=\"dataframe\">\n",
       "  <thead>\n",
       "    <tr style=\"text-align: right;\">\n",
       "      <th></th>\n",
       "      <th>name_length</th>\n",
       "      <th>Sex_female</th>\n",
       "      <th>Sex_male</th>\n",
       "      <th>Pclass_1</th>\n",
       "      <th>Pclass_2</th>\n",
       "      <th>Pclass_3</th>\n",
       "      <th>Age_(0.34, 16.336]</th>\n",
       "      <th>Age_(16.336, 32.252]</th>\n",
       "      <th>Age_(32.252, 48.168]</th>\n",
       "      <th>Age_(48.168, 64.084]</th>\n",
       "      <th>...</th>\n",
       "      <th>Ticket_2b_37</th>\n",
       "      <th>Ticket_2b_A/</th>\n",
       "      <th>Ticket_2b_C.</th>\n",
       "      <th>Ticket_2b_CA</th>\n",
       "      <th>Ticket_2b_Other</th>\n",
       "      <th>Ticket_2b_PC</th>\n",
       "      <th>Ticket_2b_S.</th>\n",
       "      <th>Ticket_2b_SC</th>\n",
       "      <th>Ticket_2b_SO</th>\n",
       "      <th>Ticket_2b_ST</th>\n",
       "    </tr>\n",
       "  </thead>\n",
       "  <tbody>\n",
       "    <tr>\n",
       "      <th>0</th>\n",
       "      <td>23</td>\n",
       "      <td>0</td>\n",
       "      <td>1</td>\n",
       "      <td>0</td>\n",
       "      <td>0</td>\n",
       "      <td>1</td>\n",
       "      <td>0</td>\n",
       "      <td>1</td>\n",
       "      <td>0</td>\n",
       "      <td>0</td>\n",
       "      <td>...</td>\n",
       "      <td>0</td>\n",
       "      <td>1</td>\n",
       "      <td>0</td>\n",
       "      <td>0</td>\n",
       "      <td>0</td>\n",
       "      <td>0</td>\n",
       "      <td>0</td>\n",
       "      <td>0</td>\n",
       "      <td>0</td>\n",
       "      <td>0</td>\n",
       "    </tr>\n",
       "    <tr>\n",
       "      <th>1</th>\n",
       "      <td>51</td>\n",
       "      <td>1</td>\n",
       "      <td>0</td>\n",
       "      <td>1</td>\n",
       "      <td>0</td>\n",
       "      <td>0</td>\n",
       "      <td>0</td>\n",
       "      <td>0</td>\n",
       "      <td>1</td>\n",
       "      <td>0</td>\n",
       "      <td>...</td>\n",
       "      <td>0</td>\n",
       "      <td>0</td>\n",
       "      <td>0</td>\n",
       "      <td>0</td>\n",
       "      <td>0</td>\n",
       "      <td>1</td>\n",
       "      <td>0</td>\n",
       "      <td>0</td>\n",
       "      <td>0</td>\n",
       "      <td>0</td>\n",
       "    </tr>\n",
       "    <tr>\n",
       "      <th>2</th>\n",
       "      <td>22</td>\n",
       "      <td>1</td>\n",
       "      <td>0</td>\n",
       "      <td>0</td>\n",
       "      <td>0</td>\n",
       "      <td>1</td>\n",
       "      <td>0</td>\n",
       "      <td>1</td>\n",
       "      <td>0</td>\n",
       "      <td>0</td>\n",
       "      <td>...</td>\n",
       "      <td>0</td>\n",
       "      <td>0</td>\n",
       "      <td>0</td>\n",
       "      <td>0</td>\n",
       "      <td>0</td>\n",
       "      <td>0</td>\n",
       "      <td>0</td>\n",
       "      <td>0</td>\n",
       "      <td>0</td>\n",
       "      <td>1</td>\n",
       "    </tr>\n",
       "    <tr>\n",
       "      <th>3</th>\n",
       "      <td>44</td>\n",
       "      <td>1</td>\n",
       "      <td>0</td>\n",
       "      <td>1</td>\n",
       "      <td>0</td>\n",
       "      <td>0</td>\n",
       "      <td>0</td>\n",
       "      <td>0</td>\n",
       "      <td>1</td>\n",
       "      <td>0</td>\n",
       "      <td>...</td>\n",
       "      <td>0</td>\n",
       "      <td>0</td>\n",
       "      <td>0</td>\n",
       "      <td>0</td>\n",
       "      <td>0</td>\n",
       "      <td>0</td>\n",
       "      <td>0</td>\n",
       "      <td>0</td>\n",
       "      <td>0</td>\n",
       "      <td>0</td>\n",
       "    </tr>\n",
       "    <tr>\n",
       "      <th>4</th>\n",
       "      <td>24</td>\n",
       "      <td>0</td>\n",
       "      <td>1</td>\n",
       "      <td>0</td>\n",
       "      <td>0</td>\n",
       "      <td>1</td>\n",
       "      <td>0</td>\n",
       "      <td>0</td>\n",
       "      <td>1</td>\n",
       "      <td>0</td>\n",
       "      <td>...</td>\n",
       "      <td>1</td>\n",
       "      <td>0</td>\n",
       "      <td>0</td>\n",
       "      <td>0</td>\n",
       "      <td>0</td>\n",
       "      <td>0</td>\n",
       "      <td>0</td>\n",
       "      <td>0</td>\n",
       "      <td>0</td>\n",
       "      <td>0</td>\n",
       "    </tr>\n",
       "  </tbody>\n",
       "</table>\n",
       "<p>5 rows × 62 columns</p>\n",
       "</div>"
      ],
      "text/plain": [
       "   name_length  Sex_female  Sex_male  Pclass_1  Pclass_2  Pclass_3  \\\n",
       "0           23           0         1         0         0         1   \n",
       "1           51           1         0         1         0         0   \n",
       "2           22           1         0         0         0         1   \n",
       "3           44           1         0         1         0         0   \n",
       "4           24           0         1         0         0         1   \n",
       "\n",
       "   Age_(0.34, 16.336]  Age_(16.336, 32.252]  Age_(32.252, 48.168]  \\\n",
       "0                   0                     1                     0   \n",
       "1                   0                     0                     1   \n",
       "2                   0                     1                     0   \n",
       "3                   0                     0                     1   \n",
       "4                   0                     0                     1   \n",
       "\n",
       "   Age_(48.168, 64.084]      ...       Ticket_2b_37  Ticket_2b_A/  \\\n",
       "0                     0      ...                  0             1   \n",
       "1                     0      ...                  0             0   \n",
       "2                     0      ...                  0             0   \n",
       "3                     0      ...                  0             0   \n",
       "4                     0      ...                  1             0   \n",
       "\n",
       "   Ticket_2b_C.  Ticket_2b_CA  Ticket_2b_Other  Ticket_2b_PC  Ticket_2b_S.  \\\n",
       "0             0             0                0             0             0   \n",
       "1             0             0                0             1             0   \n",
       "2             0             0                0             0             0   \n",
       "3             0             0                0             0             0   \n",
       "4             0             0                0             0             0   \n",
       "\n",
       "   Ticket_2b_SC  Ticket_2b_SO  Ticket_2b_ST  \n",
       "0             0             0             0  \n",
       "1             0             0             0  \n",
       "2             0             0             1  \n",
       "3             0             0             0  \n",
       "4             0             0             0  \n",
       "\n",
       "[5 rows x 62 columns]"
      ]
     },
     "execution_count": 97,
     "metadata": {},
     "output_type": "execute_result"
    }
   ],
   "source": [
    "titanic_subset = titanic[['Sex', 'Pclass', 'Age', 'SibSp','Parch', 'Embarked', \n",
    "                          'Cabin_first', 'Ticket_2b', 'name_length']].copy()\n",
    "titanic_subset['Pclass'] = titanic_subset.Pclass.astype('category')\n",
    "titanic_subset['SibSp'] = titanic_subset.SibSp.astype('category')\n",
    "titanic_subset['Parch'] = titanic_subset.Parch.astype('category')\n",
    "\n",
    "titanic_subset['Age'] = pd.cut(titanic_subset['Age'], 5)\n",
    "\n",
    "most_common_age = titanic_subset.Age.value_counts().index[0]\n",
    "titanic_subset['Age'] = titanic_subset['Age'].fillna(most_common_age)\n",
    "\n",
    "most_common_emb = titanic_subset.Embarked.value_counts().index[0]\n",
    "titanic_subset['Embarked'] = titanic_subset['Embarked'].fillna(most_common_emb)\n",
    "\n",
    "pd.get_dummies(titanic_subset).head()"
   ]
  },
  {
   "cell_type": "code",
   "execution_count": 98,
   "metadata": {},
   "outputs": [
    {
     "name": "stdout",
     "output_type": "stream",
     "text": [
      "[ 0.81111111  0.81111111  0.78651685  0.88764045  0.82022472  0.75280899\n",
      "  0.83146067  0.79775281  0.79775281  0.81818182]\n"
     ]
    },
    {
     "data": {
      "text/plain": [
       "0.81145613437748254"
      ]
     },
     "execution_count": 98,
     "metadata": {},
     "output_type": "execute_result"
    }
   ],
   "source": [
    "# A slight improvement\n",
    "X = pd.get_dummies(titanic_subset).values\n",
    "lr = LogisticRegression(C=100)\n",
    "scores = cross_val_score(lr, X, y, cv=10)\n",
    "print(scores)\n",
    "scores.mean()"
   ]
  },
  {
   "cell_type": "code",
   "execution_count": 99,
   "metadata": {
    "collapsed": true
   },
   "outputs": [],
   "source": [
    "titanic['title'] = titanic.Name.str.extract('\\, ([A-Z][^ ]*\\.)', expand=False)"
   ]
  },
  {
   "cell_type": "code",
   "execution_count": 100,
   "metadata": {},
   "outputs": [
    {
     "data": {
      "text/plain": [
       "Mr.          517\n",
       "Miss.        182\n",
       "Mrs.         125\n",
       "Master.       40\n",
       "Dr.            7\n",
       "Rev.           6\n",
       "Major.         2\n",
       "Mlle.          2\n",
       "Col.           2\n",
       "Don.           1\n",
       "Sir.           1\n",
       "Ms.            1\n",
       "Capt.          1\n",
       "Jonkheer.      1\n",
       "Lady.          1\n",
       "Mme.           1\n",
       "Name: title, dtype: int64"
      ]
     },
     "execution_count": 100,
     "metadata": {},
     "output_type": "execute_result"
    }
   ],
   "source": [
    "titanic['title'].value_counts()"
   ]
  },
  {
   "cell_type": "code",
   "execution_count": 101,
   "metadata": {},
   "outputs": [
    {
     "data": {
      "text/html": [
       "<div>\n",
       "<style>\n",
       "    .dataframe thead tr:only-child th {\n",
       "        text-align: right;\n",
       "    }\n",
       "\n",
       "    .dataframe thead th {\n",
       "        text-align: left;\n",
       "    }\n",
       "\n",
       "    .dataframe tbody tr th {\n",
       "        vertical-align: top;\n",
       "    }\n",
       "</style>\n",
       "<table border=\"1\" class=\"dataframe\">\n",
       "  <thead>\n",
       "    <tr style=\"text-align: right;\">\n",
       "      <th></th>\n",
       "      <th>name_length</th>\n",
       "      <th>Sex_female</th>\n",
       "      <th>Sex_male</th>\n",
       "      <th>Pclass_1</th>\n",
       "      <th>Pclass_2</th>\n",
       "      <th>Pclass_3</th>\n",
       "      <th>Age_(0.34, 16.336]</th>\n",
       "      <th>Age_(16.336, 32.252]</th>\n",
       "      <th>Age_(32.252, 48.168]</th>\n",
       "      <th>Age_(48.168, 64.084]</th>\n",
       "      <th>...</th>\n",
       "      <th>title_Major.</th>\n",
       "      <th>title_Master.</th>\n",
       "      <th>title_Miss.</th>\n",
       "      <th>title_Mlle.</th>\n",
       "      <th>title_Mme.</th>\n",
       "      <th>title_Mr.</th>\n",
       "      <th>title_Mrs.</th>\n",
       "      <th>title_Ms.</th>\n",
       "      <th>title_Rev.</th>\n",
       "      <th>title_Sir.</th>\n",
       "    </tr>\n",
       "  </thead>\n",
       "  <tbody>\n",
       "    <tr>\n",
       "      <th>0</th>\n",
       "      <td>23</td>\n",
       "      <td>0</td>\n",
       "      <td>1</td>\n",
       "      <td>0</td>\n",
       "      <td>0</td>\n",
       "      <td>1</td>\n",
       "      <td>0</td>\n",
       "      <td>1</td>\n",
       "      <td>0</td>\n",
       "      <td>0</td>\n",
       "      <td>...</td>\n",
       "      <td>0</td>\n",
       "      <td>0</td>\n",
       "      <td>0</td>\n",
       "      <td>0</td>\n",
       "      <td>0</td>\n",
       "      <td>1</td>\n",
       "      <td>0</td>\n",
       "      <td>0</td>\n",
       "      <td>0</td>\n",
       "      <td>0</td>\n",
       "    </tr>\n",
       "    <tr>\n",
       "      <th>1</th>\n",
       "      <td>51</td>\n",
       "      <td>1</td>\n",
       "      <td>0</td>\n",
       "      <td>1</td>\n",
       "      <td>0</td>\n",
       "      <td>0</td>\n",
       "      <td>0</td>\n",
       "      <td>0</td>\n",
       "      <td>1</td>\n",
       "      <td>0</td>\n",
       "      <td>...</td>\n",
       "      <td>0</td>\n",
       "      <td>0</td>\n",
       "      <td>0</td>\n",
       "      <td>0</td>\n",
       "      <td>0</td>\n",
       "      <td>0</td>\n",
       "      <td>1</td>\n",
       "      <td>0</td>\n",
       "      <td>0</td>\n",
       "      <td>0</td>\n",
       "    </tr>\n",
       "    <tr>\n",
       "      <th>2</th>\n",
       "      <td>22</td>\n",
       "      <td>1</td>\n",
       "      <td>0</td>\n",
       "      <td>0</td>\n",
       "      <td>0</td>\n",
       "      <td>1</td>\n",
       "      <td>0</td>\n",
       "      <td>1</td>\n",
       "      <td>0</td>\n",
       "      <td>0</td>\n",
       "      <td>...</td>\n",
       "      <td>0</td>\n",
       "      <td>0</td>\n",
       "      <td>1</td>\n",
       "      <td>0</td>\n",
       "      <td>0</td>\n",
       "      <td>0</td>\n",
       "      <td>0</td>\n",
       "      <td>0</td>\n",
       "      <td>0</td>\n",
       "      <td>0</td>\n",
       "    </tr>\n",
       "    <tr>\n",
       "      <th>3</th>\n",
       "      <td>44</td>\n",
       "      <td>1</td>\n",
       "      <td>0</td>\n",
       "      <td>1</td>\n",
       "      <td>0</td>\n",
       "      <td>0</td>\n",
       "      <td>0</td>\n",
       "      <td>0</td>\n",
       "      <td>1</td>\n",
       "      <td>0</td>\n",
       "      <td>...</td>\n",
       "      <td>0</td>\n",
       "      <td>0</td>\n",
       "      <td>0</td>\n",
       "      <td>0</td>\n",
       "      <td>0</td>\n",
       "      <td>0</td>\n",
       "      <td>1</td>\n",
       "      <td>0</td>\n",
       "      <td>0</td>\n",
       "      <td>0</td>\n",
       "    </tr>\n",
       "    <tr>\n",
       "      <th>4</th>\n",
       "      <td>24</td>\n",
       "      <td>0</td>\n",
       "      <td>1</td>\n",
       "      <td>0</td>\n",
       "      <td>0</td>\n",
       "      <td>1</td>\n",
       "      <td>0</td>\n",
       "      <td>0</td>\n",
       "      <td>1</td>\n",
       "      <td>0</td>\n",
       "      <td>...</td>\n",
       "      <td>0</td>\n",
       "      <td>0</td>\n",
       "      <td>0</td>\n",
       "      <td>0</td>\n",
       "      <td>0</td>\n",
       "      <td>1</td>\n",
       "      <td>0</td>\n",
       "      <td>0</td>\n",
       "      <td>0</td>\n",
       "      <td>0</td>\n",
       "    </tr>\n",
       "  </tbody>\n",
       "</table>\n",
       "<p>5 rows × 78 columns</p>\n",
       "</div>"
      ],
      "text/plain": [
       "   name_length  Sex_female  Sex_male  Pclass_1  Pclass_2  Pclass_3  \\\n",
       "0           23           0         1         0         0         1   \n",
       "1           51           1         0         1         0         0   \n",
       "2           22           1         0         0         0         1   \n",
       "3           44           1         0         1         0         0   \n",
       "4           24           0         1         0         0         1   \n",
       "\n",
       "   Age_(0.34, 16.336]  Age_(16.336, 32.252]  Age_(32.252, 48.168]  \\\n",
       "0                   0                     1                     0   \n",
       "1                   0                     0                     1   \n",
       "2                   0                     1                     0   \n",
       "3                   0                     0                     1   \n",
       "4                   0                     0                     1   \n",
       "\n",
       "   Age_(48.168, 64.084]     ...      title_Major.  title_Master.  title_Miss.  \\\n",
       "0                     0     ...                 0              0            0   \n",
       "1                     0     ...                 0              0            0   \n",
       "2                     0     ...                 0              0            1   \n",
       "3                     0     ...                 0              0            0   \n",
       "4                     0     ...                 0              0            0   \n",
       "\n",
       "   title_Mlle.  title_Mme.  title_Mr.  title_Mrs.  title_Ms.  title_Rev.  \\\n",
       "0            0           0          1           0          0           0   \n",
       "1            0           0          0           1          0           0   \n",
       "2            0           0          0           0          0           0   \n",
       "3            0           0          0           1          0           0   \n",
       "4            0           0          1           0          0           0   \n",
       "\n",
       "   title_Sir.  \n",
       "0           0  \n",
       "1           0  \n",
       "2           0  \n",
       "3           0  \n",
       "4           0  \n",
       "\n",
       "[5 rows x 78 columns]"
      ]
     },
     "execution_count": 101,
     "metadata": {},
     "output_type": "execute_result"
    }
   ],
   "source": [
    "titanic_subset = titanic[['Sex', 'Pclass', 'Age', 'SibSp','Parch', 'Embarked', \n",
    "                          'Cabin_first', 'Ticket_2b', 'name_length', 'title']].copy()\n",
    "titanic_subset['Pclass'] = titanic_subset.Pclass.astype('category')\n",
    "titanic_subset['SibSp'] = titanic_subset.SibSp.astype('category')\n",
    "titanic_subset['Parch'] = titanic_subset.Parch.astype('category')\n",
    "\n",
    "titanic_subset['Age'] = pd.cut(titanic_subset['Age'], 5)\n",
    "\n",
    "most_common_age = titanic_subset.Age.value_counts().index[0]\n",
    "titanic_subset['Age'] = titanic_subset['Age'].fillna(most_common_age)\n",
    "\n",
    "most_common_emb = titanic_subset.Embarked.value_counts().index[0]\n",
    "titanic_subset['Embarked'] = titanic_subset['Embarked'].fillna(most_common_emb)\n",
    "\n",
    "pd.get_dummies(titanic_subset).head()"
   ]
  },
  {
   "cell_type": "code",
   "execution_count": 102,
   "metadata": {},
   "outputs": [
    {
     "name": "stdout",
     "output_type": "stream",
     "text": [
      "[ 0.81111111  0.8         0.76404494  0.87640449  0.82022472  0.79775281\n",
      "  0.79775281  0.75280899  0.86516854  0.84090909]\n"
     ]
    },
    {
     "data": {
      "text/plain": [
       "0.81261775053909879"
      ]
     },
     "execution_count": 102,
     "metadata": {},
     "output_type": "execute_result"
    }
   ],
   "source": [
    "# A slight improvement\n",
    "X = pd.get_dummies(titanic_subset).values\n",
    "lr = LogisticRegression(C=500000)\n",
    "scores = cross_val_score(lr, X, y, cv=10)\n",
    "print(scores)\n",
    "scores.mean()"
   ]
  },
  {
   "cell_type": "markdown",
   "metadata": {},
   "source": [
    "## Use a randomforest"
   ]
  },
  {
   "cell_type": "code",
   "execution_count": 103,
   "metadata": {
    "collapsed": true
   },
   "outputs": [],
   "source": [
    "from sklearn.ensemble import RandomForestClassifier"
   ]
  },
  {
   "cell_type": "code",
   "execution_count": 104,
   "metadata": {},
   "outputs": [
    {
     "name": "stdout",
     "output_type": "stream",
     "text": [
      "[ 0.74444444  0.82222222  0.79775281  0.83146067  0.80898876  0.86516854\n",
      "  0.78651685  0.75280899  0.86516854  0.88636364]\n"
     ]
    },
    {
     "data": {
      "text/plain": [
       "0.8160895471569628"
      ]
     },
     "execution_count": 104,
     "metadata": {},
     "output_type": "execute_result"
    }
   ],
   "source": [
    "X = pd.get_dummies(titanic_subset).values\n",
    "rfc = RandomForestClassifier(n_estimators=30, )\n",
    "scores = cross_val_score(rfc, X, y, cv=10)\n",
    "print(scores)\n",
    "scores.mean()"
   ]
  },
  {
   "cell_type": "code",
   "execution_count": 105,
   "metadata": {},
   "outputs": [
    {
     "data": {
      "text/html": [
       "<div>\n",
       "<style>\n",
       "    .dataframe thead tr:only-child th {\n",
       "        text-align: right;\n",
       "    }\n",
       "\n",
       "    .dataframe thead th {\n",
       "        text-align: left;\n",
       "    }\n",
       "\n",
       "    .dataframe tbody tr th {\n",
       "        vertical-align: top;\n",
       "    }\n",
       "</style>\n",
       "<table border=\"1\" class=\"dataframe\">\n",
       "  <thead>\n",
       "    <tr style=\"text-align: right;\">\n",
       "      <th></th>\n",
       "      <th>name_length</th>\n",
       "      <th>Sex_female</th>\n",
       "      <th>Sex_male</th>\n",
       "      <th>Pclass_1</th>\n",
       "      <th>Pclass_2</th>\n",
       "      <th>Pclass_3</th>\n",
       "      <th>Age_(0.34, 8.378]</th>\n",
       "      <th>Age_(8.378, 16.336]</th>\n",
       "      <th>Age_(16.336, 24.294]</th>\n",
       "      <th>Age_(24.294, 32.252]</th>\n",
       "      <th>...</th>\n",
       "      <th>title_Major.</th>\n",
       "      <th>title_Master.</th>\n",
       "      <th>title_Miss.</th>\n",
       "      <th>title_Mlle.</th>\n",
       "      <th>title_Mme.</th>\n",
       "      <th>title_Mr.</th>\n",
       "      <th>title_Mrs.</th>\n",
       "      <th>title_Ms.</th>\n",
       "      <th>title_Rev.</th>\n",
       "      <th>title_Sir.</th>\n",
       "    </tr>\n",
       "  </thead>\n",
       "  <tbody>\n",
       "    <tr>\n",
       "      <th>0</th>\n",
       "      <td>23</td>\n",
       "      <td>0</td>\n",
       "      <td>1</td>\n",
       "      <td>0</td>\n",
       "      <td>0</td>\n",
       "      <td>1</td>\n",
       "      <td>0</td>\n",
       "      <td>0</td>\n",
       "      <td>1</td>\n",
       "      <td>0</td>\n",
       "      <td>...</td>\n",
       "      <td>0</td>\n",
       "      <td>0</td>\n",
       "      <td>0</td>\n",
       "      <td>0</td>\n",
       "      <td>0</td>\n",
       "      <td>1</td>\n",
       "      <td>0</td>\n",
       "      <td>0</td>\n",
       "      <td>0</td>\n",
       "      <td>0</td>\n",
       "    </tr>\n",
       "    <tr>\n",
       "      <th>1</th>\n",
       "      <td>51</td>\n",
       "      <td>1</td>\n",
       "      <td>0</td>\n",
       "      <td>1</td>\n",
       "      <td>0</td>\n",
       "      <td>0</td>\n",
       "      <td>0</td>\n",
       "      <td>0</td>\n",
       "      <td>0</td>\n",
       "      <td>0</td>\n",
       "      <td>...</td>\n",
       "      <td>0</td>\n",
       "      <td>0</td>\n",
       "      <td>0</td>\n",
       "      <td>0</td>\n",
       "      <td>0</td>\n",
       "      <td>0</td>\n",
       "      <td>1</td>\n",
       "      <td>0</td>\n",
       "      <td>0</td>\n",
       "      <td>0</td>\n",
       "    </tr>\n",
       "    <tr>\n",
       "      <th>2</th>\n",
       "      <td>22</td>\n",
       "      <td>1</td>\n",
       "      <td>0</td>\n",
       "      <td>0</td>\n",
       "      <td>0</td>\n",
       "      <td>1</td>\n",
       "      <td>0</td>\n",
       "      <td>0</td>\n",
       "      <td>0</td>\n",
       "      <td>1</td>\n",
       "      <td>...</td>\n",
       "      <td>0</td>\n",
       "      <td>0</td>\n",
       "      <td>1</td>\n",
       "      <td>0</td>\n",
       "      <td>0</td>\n",
       "      <td>0</td>\n",
       "      <td>0</td>\n",
       "      <td>0</td>\n",
       "      <td>0</td>\n",
       "      <td>0</td>\n",
       "    </tr>\n",
       "    <tr>\n",
       "      <th>3</th>\n",
       "      <td>44</td>\n",
       "      <td>1</td>\n",
       "      <td>0</td>\n",
       "      <td>1</td>\n",
       "      <td>0</td>\n",
       "      <td>0</td>\n",
       "      <td>0</td>\n",
       "      <td>0</td>\n",
       "      <td>0</td>\n",
       "      <td>0</td>\n",
       "      <td>...</td>\n",
       "      <td>0</td>\n",
       "      <td>0</td>\n",
       "      <td>0</td>\n",
       "      <td>0</td>\n",
       "      <td>0</td>\n",
       "      <td>0</td>\n",
       "      <td>1</td>\n",
       "      <td>0</td>\n",
       "      <td>0</td>\n",
       "      <td>0</td>\n",
       "    </tr>\n",
       "    <tr>\n",
       "      <th>4</th>\n",
       "      <td>24</td>\n",
       "      <td>0</td>\n",
       "      <td>1</td>\n",
       "      <td>0</td>\n",
       "      <td>0</td>\n",
       "      <td>1</td>\n",
       "      <td>0</td>\n",
       "      <td>0</td>\n",
       "      <td>0</td>\n",
       "      <td>0</td>\n",
       "      <td>...</td>\n",
       "      <td>0</td>\n",
       "      <td>0</td>\n",
       "      <td>0</td>\n",
       "      <td>0</td>\n",
       "      <td>0</td>\n",
       "      <td>1</td>\n",
       "      <td>0</td>\n",
       "      <td>0</td>\n",
       "      <td>0</td>\n",
       "      <td>0</td>\n",
       "    </tr>\n",
       "  </tbody>\n",
       "</table>\n",
       "<p>5 rows × 83 columns</p>\n",
       "</div>"
      ],
      "text/plain": [
       "   name_length  Sex_female  Sex_male  Pclass_1  Pclass_2  Pclass_3  \\\n",
       "0           23           0         1         0         0         1   \n",
       "1           51           1         0         1         0         0   \n",
       "2           22           1         0         0         0         1   \n",
       "3           44           1         0         1         0         0   \n",
       "4           24           0         1         0         0         1   \n",
       "\n",
       "   Age_(0.34, 8.378]  Age_(8.378, 16.336]  Age_(16.336, 24.294]  \\\n",
       "0                  0                    0                     1   \n",
       "1                  0                    0                     0   \n",
       "2                  0                    0                     0   \n",
       "3                  0                    0                     0   \n",
       "4                  0                    0                     0   \n",
       "\n",
       "   Age_(24.294, 32.252]     ...      title_Major.  title_Master.  title_Miss.  \\\n",
       "0                     0     ...                 0              0            0   \n",
       "1                     0     ...                 0              0            0   \n",
       "2                     1     ...                 0              0            1   \n",
       "3                     0     ...                 0              0            0   \n",
       "4                     0     ...                 0              0            0   \n",
       "\n",
       "   title_Mlle.  title_Mme.  title_Mr.  title_Mrs.  title_Ms.  title_Rev.  \\\n",
       "0            0           0          1           0          0           0   \n",
       "1            0           0          0           1          0           0   \n",
       "2            0           0          0           0          0           0   \n",
       "3            0           0          0           1          0           0   \n",
       "4            0           0          1           0          0           0   \n",
       "\n",
       "   title_Sir.  \n",
       "0           0  \n",
       "1           0  \n",
       "2           0  \n",
       "3           0  \n",
       "4           0  \n",
       "\n",
       "[5 rows x 83 columns]"
      ]
     },
     "execution_count": 105,
     "metadata": {},
     "output_type": "execute_result"
    }
   ],
   "source": [
    "titanic_subset = titanic[['Sex', 'Pclass', 'Age', 'SibSp','Parch', 'Embarked', \n",
    "                          'Cabin_first', 'Ticket_2b', 'name_length', 'title']].copy()\n",
    "titanic_subset['Pclass'] = titanic_subset.Pclass.astype('category')\n",
    "titanic_subset['SibSp'] = titanic_subset.SibSp.astype('category')\n",
    "titanic_subset['Parch'] = titanic_subset.Parch.astype('category')\n",
    "\n",
    "titanic_subset['Age'] = pd.cut(titanic_subset['Age'], 10)\n",
    "\n",
    "most_common_age = titanic_subset.Age.value_counts().index[0]\n",
    "titanic_subset['Age'] = titanic_subset['Age'].fillna(most_common_age)\n",
    "\n",
    "most_common_emb = titanic_subset.Embarked.value_counts().index[0]\n",
    "titanic_subset['Embarked'] = titanic_subset['Embarked'].fillna(most_common_emb)\n",
    "\n",
    "pd.get_dummies(titanic_subset).head()"
   ]
  },
  {
   "cell_type": "code",
   "execution_count": 106,
   "metadata": {},
   "outputs": [
    {
     "name": "stdout",
     "output_type": "stream",
     "text": [
      "[ 0.81005587  0.81564246  0.80898876  0.78651685  0.79661017]\n"
     ]
    },
    {
     "data": {
      "text/plain": [
       "0.80356282229827991"
      ]
     },
     "execution_count": 106,
     "metadata": {},
     "output_type": "execute_result"
    }
   ],
   "source": [
    "X = pd.get_dummies(titanic_subset).values\n",
    "rfc = RandomForestClassifier(n_estimators=30, )\n",
    "scores = cross_val_score(rfc, X, y, cv=5)\n",
    "print(scores)\n",
    "scores.mean()"
   ]
  },
  {
   "cell_type": "code",
   "execution_count": null,
   "metadata": {
    "collapsed": true
   },
   "outputs": [],
   "source": []
  }
 ],
 "metadata": {
  "kernelspec": {
   "display_name": "Python 3",
   "language": "python",
   "name": "python3"
  },
  "language_info": {
   "codemirror_mode": {
    "name": "ipython",
    "version": 3
   },
   "file_extension": ".py",
   "mimetype": "text/x-python",
   "name": "python",
   "nbconvert_exporter": "python",
   "pygments_lexer": "ipython3",
   "version": "3.6.3"
  }
 },
 "nbformat": 4,
 "nbformat_minor": 2
}
